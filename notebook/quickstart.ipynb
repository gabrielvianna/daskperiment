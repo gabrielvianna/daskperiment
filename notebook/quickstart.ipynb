{
 "cells": [
  {
   "cell_type": "markdown",
   "metadata": {},
   "source": [
    "# Quickstart"
   ]
  },
  {
   "cell_type": "markdown",
   "metadata": {},
   "source": [
    "This notebook shows a quickstart of `daskperiment`."
   ]
  },
  {
   "cell_type": "code",
   "execution_count": 1,
   "metadata": {
    "collapsed": false
   },
   "outputs": [],
   "source": [
    "%matplotlib inline\n",
    "import numpy as np\n",
    "import daskperiment"
   ]
  },
  {
   "cell_type": "markdown",
   "metadata": {},
   "source": [
    "First, create `daskperiment.Experiment` instance. This instance controlls an experiment, a chain of functions to output value and a collection of input variables."
   ]
  },
  {
   "cell_type": "code",
   "execution_count": 2,
   "metadata": {
    "collapsed": false
   },
   "outputs": [
    {
     "name": "stderr",
     "output_type": "stream",
     "text": [
      "2019-01-25 08:30:36,974 [daskperiment.core.experiment] [INFO] Experiment(id: quickstart_pj, version: 0) is being initialized\n",
      "2019-01-25 08:30:36,981 [daskperiment.core.environment] [INFO] Platform: Darwin 17.7.0\n",
      "2019-01-25 08:30:36,989 [daskperiment.core.environment] [INFO] Processor: i386\n",
      "2019-01-25 08:30:36,992 [daskperiment.core.environment] [INFO] Packagge path: /Users/sinhrks/Git/daskperiment/daskperiment\n",
      "2019-01-25 08:30:36,993 [daskperiment.core.environment] [INFO] Working directory: /Users/sinhrks/Git/daskperiment/notebook\n",
      "2019-01-25 08:30:36,995 [daskperiment.core.experiment] [INFO] Use existing cache directory: /Users/sinhrks/Git/daskperiment/notebook/cache/quickstart_pj_0\n"
     ]
    }
   ],
   "source": [
    "ex = daskperiment.Experiment(id='quickstart_pj')"
   ]
  },
  {
   "cell_type": "markdown",
   "metadata": {},
   "source": [
    "Then, use `Experiment.parameter` method to define parameters (input variables for the experiment). The actual value of each parameter can be changed in every trial."
   ]
  },
  {
   "cell_type": "code",
   "execution_count": 3,
   "metadata": {
    "collapsed": false
   },
   "outputs": [
    {
     "data": {
      "text/plain": [
       "Parameter(a: Undefined)"
      ]
     },
     "execution_count": 3,
     "metadata": {},
     "output_type": "execute_result"
    }
   ],
   "source": [
    "a = ex.parameter('a')\n",
    "b = ex.parameter('b')\n",
    "a"
   ]
  },
  {
   "cell_type": "markdown",
   "metadata": {},
   "source": [
    "Next, you can define each experiment step (function) by decorating with `Experiment` instance (`@ex`).\n",
    "\n",
    "Note that the function to output the final result (mostly objective value to be minimized or maximized) must be decorated with `Experiment.result`. The chain of these functions are expressed as `Dask.Delayed` instance."
   ]
  },
  {
   "cell_type": "code",
   "execution_count": 4,
   "metadata": {
    "collapsed": false,
    "scrolled": false
   },
   "outputs": [
    {
     "data": {
      "text/plain": [
       "Delayed('calculate_score-f71034e4-2a96-4d95-8070-3a1d80725b58')"
      ]
     },
     "execution_count": 4,
     "metadata": {},
     "output_type": "execute_result"
    }
   ],
   "source": [
    "@ex\n",
    "def prepare_data(a, b):\n",
    "    return a + b\n",
    "\n",
    "@ex.result\n",
    "def calculate_score(s):\n",
    "    return s + 1\n",
    "\n",
    "d = prepare_data(a, b)\n",
    "s = calculate_score(d)\n",
    "s"
   ]
  },
  {
   "cell_type": "markdown",
   "metadata": {},
   "source": [
    "Thus, you can visualize computation graph via `.visualize` method."
   ]
  },
  {
   "cell_type": "code",
   "execution_count": 5,
   "metadata": {
    "collapsed": false
   },
   "outputs": [
    {
     "data": {
      "image/png": "[encoded data removed]",
      "text/plain": [
       "<IPython.core.display.Image object>"
      ]
     },
     "execution_count": 5,
     "metadata": {},
     "output_type": "execute_result"
    }
   ],
   "source": [
    "s.visualize()"
   ]
  },
  {
   "cell_type": "markdown",
   "metadata": {},
   "source": [
    "Use `Experiment.set_parameters` method to set parameters for a trial. After setting parameters, `Parameter` variable and experiment result will be computable.\n",
    "\n",
    "Parameters are recommended to be a scalar (or lightweight value) because these are stored as history (for example, passing filename as a parameter is　preffered rather than passing `DataFrame`)."
   ]
  },
  {
   "cell_type": "code",
   "execution_count": 6,
   "metadata": {
    "collapsed": false,
    "scrolled": false
   },
   "outputs": [
    {
     "name": "stderr",
     "output_type": "stream",
     "text": [
      "2019-01-25 08:30:44,278 [daskperiment.core.experiment] [INFO] Updated parameters: a=1, b=2\n"
     ]
    },
    {
     "data": {
      "text/plain": [
       "1"
      ]
     },
     "execution_count": 6,
     "metadata": {},
     "output_type": "execute_result"
    }
   ],
   "source": [
    "ex.set_parameters(a=1, b=2)\n",
    "a.compute()"
   ]
  },
  {
   "cell_type": "code",
   "execution_count": 7,
   "metadata": {
    "collapsed": false
   },
   "outputs": [
    {
     "name": "stderr",
     "output_type": "stream",
     "text": [
      "2019-01-25 08:30:44,757 [daskperiment.core.experiment] [INFO] Started Experiment (trial id=1)\n",
      "2019-01-25 08:30:44,759 [daskperiment.core.experiment] [INFO] Target: calculate_score-f71034e4-2a96-4d95-8070-3a1d80725b58\n",
      "2019-01-25 08:30:44,760 [daskperiment.core.experiment] [INFO] Parameters: a=1, b=2\n",
      "2019-01-25 08:30:44,765 [daskperiment.core.experiment] [INFO] Finished Experiment (trial id=1)\n"
     ]
    },
    {
     "data": {
      "text/plain": [
       "4"
      ]
     },
     "execution_count": 7,
     "metadata": {},
     "output_type": "execute_result"
    }
   ],
   "source": [
    "s.compute()"
   ]
  },
  {
   "cell_type": "markdown",
   "metadata": {},
   "source": [
    "You can update any parameters for next trial. Every trials can be distinguished by trial id."
   ]
  },
  {
   "cell_type": "code",
   "execution_count": 8,
   "metadata": {
    "collapsed": false,
    "scrolled": true
   },
   "outputs": [
    {
     "name": "stderr",
     "output_type": "stream",
     "text": [
      "2019-01-25 08:30:47,224 [daskperiment.core.experiment] [INFO] Updated parameters: a=1, b=3\n",
      "2019-01-25 08:30:47,226 [daskperiment.core.experiment] [INFO] Started Experiment (trial id=2)\n",
      "2019-01-25 08:30:47,228 [daskperiment.core.experiment] [INFO] Target: calculate_score-f71034e4-2a96-4d95-8070-3a1d80725b58\n",
      "2019-01-25 08:30:47,229 [daskperiment.core.experiment] [INFO] Parameters: a=1, b=3\n",
      "2019-01-25 08:30:47,233 [daskperiment.core.experiment] [INFO] Finished Experiment (trial id=2)\n"
     ]
    },
    {
     "data": {
      "text/plain": [
       "5"
      ]
     },
     "execution_count": 8,
     "metadata": {},
     "output_type": "execute_result"
    }
   ],
   "source": [
    "ex.set_parameters(b=3)\n",
    "s.compute()"
   ]
  },
  {
   "cell_type": "markdown",
   "metadata": {},
   "source": [
    "After some trials, you can retrieve parameter values specifying trial id."
   ]
  },
  {
   "cell_type": "code",
   "execution_count": 9,
   "metadata": {
    "collapsed": false,
    "scrolled": true
   },
   "outputs": [
    {
     "data": {
      "text/plain": [
       "{'a': 1, 'b': 2}"
      ]
     },
     "execution_count": 9,
     "metadata": {},
     "output_type": "execute_result"
    }
   ],
   "source": [
    "ex.get_parameters(trial_id=1)"
   ]
  },
  {
   "cell_type": "code",
   "execution_count": 10,
   "metadata": {
    "collapsed": false
   },
   "outputs": [
    {
     "data": {
      "text/plain": [
       "{'a': 1, 'b': 3}"
      ]
     },
     "execution_count": 10,
     "metadata": {},
     "output_type": "execute_result"
    }
   ],
   "source": [
    "ex.get_parameters(trial_id=2)"
   ]
  },
  {
   "cell_type": "markdown",
   "metadata": {},
   "source": [
    "`Experiment.get_history` will return a `DataFrame` which stores a history of trial parameters and its results. You can select desirable trial using `pandas` basic operation."
   ]
  },
  {
   "cell_type": "code",
   "execution_count": 11,
   "metadata": {
    "collapsed": false,
    "scrolled": true
   },
   "outputs": [
    {
     "data": {
      "text/html": [
       "<div>\n",
       "<style scoped>\n",
       "    .dataframe tbody tr th:only-of-type {\n",
       "        vertical-align: middle;\n",
       "    }\n",
       "\n",
       "    .dataframe tbody tr th {\n",
       "        vertical-align: top;\n",
       "    }\n",
       "\n",
       "    .dataframe thead th {\n",
       "        text-align: right;\n",
       "    }\n",
       "</style>\n",
       "<table border=\"1\" class=\"dataframe\">\n",
       "  <thead>\n",
       "    <tr style=\"text-align: right;\">\n",
       "      <th></th>\n",
       "      <th>a</th>\n",
       "      <th>b</th>\n",
       "      <th>Result</th>\n",
       "      <th>Finished</th>\n",
       "      <th>Process Time</th>\n",
       "    </tr>\n",
       "    <tr>\n",
       "      <th>Trial ID</th>\n",
       "      <th></th>\n",
       "      <th></th>\n",
       "      <th></th>\n",
       "      <th></th>\n",
       "      <th></th>\n",
       "    </tr>\n",
       "  </thead>\n",
       "  <tbody>\n",
       "    <tr>\n",
       "      <th>1</th>\n",
       "      <td>1</td>\n",
       "      <td>2</td>\n",
       "      <td>4</td>\n",
       "      <td>2019-01-25 08:30:44.765358</td>\n",
       "      <td>00:00:00.008401</td>\n",
       "    </tr>\n",
       "    <tr>\n",
       "      <th>2</th>\n",
       "      <td>1</td>\n",
       "      <td>3</td>\n",
       "      <td>5</td>\n",
       "      <td>2019-01-25 08:30:47.233608</td>\n",
       "      <td>00:00:00.007053</td>\n",
       "    </tr>\n",
       "  </tbody>\n",
       "</table>\n",
       "</div>"
      ],
      "text/plain": [
       "          a  b  Result                   Finished    Process Time\n",
       "Trial ID                                                         \n",
       "1         1  2       4 2019-01-25 08:30:44.765358 00:00:00.008401\n",
       "2         1  3       5 2019-01-25 08:30:47.233608 00:00:00.007053"
      ]
     },
     "execution_count": 11,
     "metadata": {},
     "output_type": "execute_result"
    }
   ],
   "source": [
    "ex.get_history()"
   ]
  },
  {
   "cell_type": "markdown",
   "metadata": {},
   "source": [
    "# Handling intermediate result"
   ]
  },
  {
   "cell_type": "markdown",
   "metadata": {},
   "source": [
    "Next example shows how to retrieve an intermediate result of the chain.\n",
    "\n",
    "After creating another `Experiment` instance, use `Experiment.persist` decorator at the function to keep its intermediate result. Other usages are all the same. Note that an intermediate result is saved as a pickle file named with its function name, function name must be unique in the experiment."
   ]
  },
  {
   "cell_type": "code",
   "execution_count": 12,
   "metadata": {
    "collapsed": false,
    "scrolled": true
   },
   "outputs": [
    {
     "name": "stderr",
     "output_type": "stream",
     "text": [
      "2019-01-25 08:30:50,469 [daskperiment.core.experiment] [INFO] Experiment(id: persist_pj, version: 0) is being initialized\n",
      "2019-01-25 08:30:50,471 [daskperiment.core.environment] [INFO] Platform: Darwin 17.7.0\n",
      "2019-01-25 08:30:50,473 [daskperiment.core.environment] [INFO] Processor: i386\n",
      "2019-01-25 08:30:50,475 [daskperiment.core.environment] [INFO] Packagge path: /Users/sinhrks/Git/daskperiment/daskperiment\n",
      "2019-01-25 08:30:50,476 [daskperiment.core.environment] [INFO] Working directory: /Users/sinhrks/Git/daskperiment/notebook\n",
      "2019-01-25 08:30:50,478 [daskperiment.core.experiment] [INFO] Use existing cache directory: /Users/sinhrks/Git/daskperiment/notebook/cache/persist_pj_0\n"
     ]
    }
   ],
   "source": [
    "ex2 = daskperiment.Experiment(id='persist_pj')\n",
    "\n",
    "a = ex2.parameter('a')\n",
    "b = ex2.parameter('b')\n",
    "\n",
    "@ex2.persist\n",
    "def prepare_data(a, b):\n",
    "    return a + b\n",
    "\n",
    "@ex2.result\n",
    "def calculate_score(s):\n",
    "    return s + 1\n",
    "\n",
    "d = prepare_data(a, b)\n",
    "s = calculate_score(d)"
   ]
  },
  {
   "cell_type": "markdown",
   "metadata": {},
   "source": [
    "Performing some trials."
   ]
  },
  {
   "cell_type": "code",
   "execution_count": 13,
   "metadata": {
    "collapsed": false
   },
   "outputs": [
    {
     "name": "stderr",
     "output_type": "stream",
     "text": [
      "2019-01-25 08:30:52,287 [daskperiment.core.experiment] [INFO] Updated parameters: a=1, b=2\n",
      "2019-01-25 08:30:52,290 [daskperiment.core.experiment] [INFO] Started Experiment (trial id=1)\n",
      "2019-01-25 08:30:52,292 [daskperiment.core.experiment] [INFO] Target: calculate_score-69582c29-050d-4d55-b03b-9bab09df3be9\n",
      "2019-01-25 08:30:52,293 [daskperiment.core.experiment] [INFO] Parameters: a=1, b=2\n",
      "2019-01-25 08:30:52,297 [daskperiment.core.experiment] [INFO] Saving intermediate result (trial id=1): prepare_data(path=cache/persist_pj_0/persist_pj_0_prepare_data_1.pkl)\n",
      "2019-01-25 08:30:52,301 [daskperiment.core.experiment] [INFO] Finished Experiment (trial id=1)\n"
     ]
    },
    {
     "data": {
      "text/plain": [
       "4"
      ]
     },
     "execution_count": 13,
     "metadata": {},
     "output_type": "execute_result"
    }
   ],
   "source": [
    "ex2.set_parameters(a=1, b=2)\n",
    "s.compute()"
   ]
  },
  {
   "cell_type": "code",
   "execution_count": 14,
   "metadata": {
    "collapsed": false
   },
   "outputs": [
    {
     "name": "stderr",
     "output_type": "stream",
     "text": [
      "2019-01-25 08:30:52,596 [daskperiment.core.experiment] [INFO] Updated parameters: a=3, b=2\n",
      "2019-01-25 08:30:52,598 [daskperiment.core.experiment] [INFO] Started Experiment (trial id=2)\n",
      "2019-01-25 08:30:52,599 [daskperiment.core.experiment] [INFO] Target: calculate_score-69582c29-050d-4d55-b03b-9bab09df3be9\n",
      "2019-01-25 08:30:52,600 [daskperiment.core.experiment] [INFO] Parameters: a=3, b=2\n",
      "2019-01-25 08:30:52,603 [daskperiment.core.experiment] [INFO] Saving intermediate result (trial id=2): prepare_data(path=cache/persist_pj_0/persist_pj_0_prepare_data_2.pkl)\n",
      "2019-01-25 08:30:52,605 [daskperiment.core.experiment] [INFO] Finished Experiment (trial id=2)\n"
     ]
    },
    {
     "data": {
      "text/plain": [
       "6"
      ]
     },
     "execution_count": 14,
     "metadata": {},
     "output_type": "execute_result"
    }
   ],
   "source": [
    "ex2.set_parameters(a=3, b=2)\n",
    "s.compute()"
   ]
  },
  {
   "cell_type": "markdown",
   "metadata": {},
   "source": [
    "You can retrieve an intermediate results via `Experiment.get_persisted` method by specifying function name and trial id."
   ]
  },
  {
   "cell_type": "code",
   "execution_count": 15,
   "metadata": {
    "collapsed": false
   },
   "outputs": [
    {
     "data": {
      "text/plain": [
       "3"
      ]
     },
     "execution_count": 15,
     "metadata": {},
     "output_type": "execute_result"
    }
   ],
   "source": [
    "ex2.get_persisted('prepare_data', trial_id=1)"
   ]
  },
  {
   "cell_type": "code",
   "execution_count": 16,
   "metadata": {
    "collapsed": false
   },
   "outputs": [
    {
     "data": {
      "text/plain": [
       "5"
      ]
     },
     "execution_count": 16,
     "metadata": {},
     "output_type": "execute_result"
    }
   ],
   "source": [
    "ex2.get_persisted('prepare_data', trial_id=2)"
   ]
  },
  {
   "cell_type": "markdown",
   "metadata": {},
   "source": [
    "# Monitoring metrics"
   ]
  },
  {
   "cell_type": "markdown",
   "metadata": {},
   "source": [
    "You may want to monitor transition of some metrics during each trial. Each experiment function can call `Experiment.save_metric` to save metric with its key (name) and epoch."
   ]
  },
  {
   "cell_type": "code",
   "execution_count": 17,
   "metadata": {
    "collapsed": false
   },
   "outputs": [
    {
     "name": "stderr",
     "output_type": "stream",
     "text": [
      "2019-01-25 08:30:56,430 [daskperiment.core.experiment] [INFO] Experiment(id: metric_pj, version: 0) is being initialized\n",
      "2019-01-25 08:30:56,432 [daskperiment.core.environment] [INFO] Platform: Darwin 17.7.0\n",
      "2019-01-25 08:30:56,434 [daskperiment.core.environment] [INFO] Processor: i386\n",
      "2019-01-25 08:30:56,435 [daskperiment.core.environment] [INFO] Packagge path: /Users/sinhrks/Git/daskperiment/daskperiment\n",
      "2019-01-25 08:30:56,436 [daskperiment.core.environment] [INFO] Working directory: /Users/sinhrks/Git/daskperiment/notebook\n",
      "2019-01-25 08:30:56,438 [daskperiment.core.experiment] [INFO] Use existing cache directory: /Users/sinhrks/Git/daskperiment/notebook/cache/metric_pj_0\n"
     ]
    }
   ],
   "source": [
    "ex3 = daskperiment.Experiment(id='metric_pj')\n",
    "\n",
    "a = ex3.parameter('a')\n",
    "b = ex3.parameter('b')\n",
    "\n",
    "@ex3\n",
    "def prepare_data(a, b):\n",
    "    return a + b\n",
    "\n",
    "@ex3.result\n",
    "def calculate_score(s):\n",
    "    for i in range(100):\n",
    "        ex3.save_metric('dummy_score', epoch=i, value=100 - np.random.random() * i)\n",
    "        \n",
    "    return s + 1\n",
    "\n",
    "d = prepare_data(a, b)\n",
    "s = calculate_score(d)"
   ]
  },
  {
   "cell_type": "code",
   "execution_count": 18,
   "metadata": {
    "collapsed": false,
    "scrolled": true
   },
   "outputs": [
    {
     "name": "stderr",
     "output_type": "stream",
     "text": [
      "2019-01-25 08:30:57,867 [daskperiment.core.experiment] [INFO] Updated parameters: a=1, b=2\n",
      "2019-01-25 08:30:57,869 [daskperiment.core.experiment] [INFO] Started Experiment (trial id=1)\n",
      "2019-01-25 08:30:57,870 [daskperiment.core.experiment] [INFO] Target: calculate_score-3eecc247-e684-4711-ad22-ac68cd3ed238\n",
      "2019-01-25 08:30:57,871 [daskperiment.core.experiment] [INFO] Parameters: a=1, b=2\n",
      "2019-01-25 08:30:57,876 [daskperiment.core.experiment] [INFO] Finished Experiment (trial id=1)\n"
     ]
    },
    {
     "data": {
      "text/plain": [
       "4"
      ]
     },
     "execution_count": 18,
     "metadata": {},
     "output_type": "execute_result"
    }
   ],
   "source": [
    "ex3.set_parameters(a=1, b=2)\n",
    "s.compute()"
   ]
  },
  {
   "cell_type": "markdown",
   "metadata": {},
   "source": [
    "After a trial, you can load saved metric using `Experiment.load_metric` specifying its name and trial_id. As it is returned as `DataFrame`, you can easily investigate it."
   ]
  },
  {
   "cell_type": "code",
   "execution_count": 19,
   "metadata": {
    "collapsed": false
   },
   "outputs": [
    {
     "data": {
      "text/html": [
       "<div>\n",
       "<style scoped>\n",
       "    .dataframe tbody tr th:only-of-type {\n",
       "        vertical-align: middle;\n",
       "    }\n",
       "\n",
       "    .dataframe tbody tr th {\n",
       "        vertical-align: top;\n",
       "    }\n",
       "\n",
       "    .dataframe thead th {\n",
       "        text-align: right;\n",
       "    }\n",
       "</style>\n",
       "<table border=\"1\" class=\"dataframe\">\n",
       "  <thead>\n",
       "    <tr style=\"text-align: right;\">\n",
       "      <th></th>\n",
       "      <th>1</th>\n",
       "    </tr>\n",
       "    <tr>\n",
       "      <th>Epoch</th>\n",
       "      <th></th>\n",
       "    </tr>\n",
       "  </thead>\n",
       "  <tbody>\n",
       "    <tr>\n",
       "      <th>0</th>\n",
       "      <td>100.000000</td>\n",
       "    </tr>\n",
       "    <tr>\n",
       "      <th>1</th>\n",
       "      <td>99.154009</td>\n",
       "    </tr>\n",
       "    <tr>\n",
       "      <th>2</th>\n",
       "      <td>98.861870</td>\n",
       "    </tr>\n",
       "    <tr>\n",
       "      <th>3</th>\n",
       "      <td>97.282600</td>\n",
       "    </tr>\n",
       "    <tr>\n",
       "      <th>4</th>\n",
       "      <td>98.516720</td>\n",
       "    </tr>\n",
       "  </tbody>\n",
       "</table>\n",
       "</div>"
      ],
      "text/plain": [
       "                1\n",
       "Epoch            \n",
       "0      100.000000\n",
       "1       99.154009\n",
       "2       98.861870\n",
       "3       97.282600\n",
       "4       98.516720"
      ]
     },
     "execution_count": 19,
     "metadata": {},
     "output_type": "execute_result"
    }
   ],
   "source": [
    "dummy_score = ex3.load_metric('dummy_score', trial_id=1)\n",
    "dummy_score.head()"
   ]
  },
  {
   "cell_type": "code",
   "execution_count": 20,
   "metadata": {
    "collapsed": false
   },
   "outputs": [
    {
     "data": {
      "text/plain": [
       "<matplotlib.axes._subplots.AxesSubplot at 0x115d41978>"
      ]
     },
     "execution_count": 20,
     "metadata": {},
     "output_type": "execute_result"
    },
    {
     "data": {
      "image/png": "[encoded data removed]",
      "text/plain": [
       "<Figure size 432x288 with 1 Axes>"
      ]
     },
     "metadata": {
      "needs_background": "light"
     },
     "output_type": "display_data"
    }
   ],
   "source": [
    "dummy_score.plot()"
   ]
  },
  {
   "cell_type": "markdown",
   "metadata": {},
   "source": [
    "Perform another trial."
   ]
  },
  {
   "cell_type": "code",
   "execution_count": 21,
   "metadata": {
    "collapsed": false
   },
   "outputs": [
    {
     "name": "stderr",
     "output_type": "stream",
     "text": [
      "2019-01-25 08:31:03,274 [daskperiment.core.experiment] [INFO] Updated parameters: a=3, b=4\n",
      "2019-01-25 08:31:03,284 [daskperiment.core.experiment] [INFO] Started Experiment (trial id=2)\n",
      "2019-01-25 08:31:03,287 [daskperiment.core.experiment] [INFO] Target: calculate_score-3eecc247-e684-4711-ad22-ac68cd3ed238\n",
      "2019-01-25 08:31:03,300 [daskperiment.core.experiment] [INFO] Parameters: a=3, b=4\n",
      "2019-01-25 08:31:03,312 [daskperiment.core.experiment] [INFO] Finished Experiment (trial id=2)\n"
     ]
    },
    {
     "data": {
      "text/plain": [
       "8"
      ]
     },
     "execution_count": 21,
     "metadata": {},
     "output_type": "execute_result"
    }
   ],
   "source": [
    "ex3.set_parameters(a=3, b=4)\n",
    "s.compute()"
   ]
  },
  {
   "cell_type": "markdown",
   "metadata": {},
   "source": [
    "To compare metrics between trials, pass multiple trial ids to `Experiment.load_metric`."
   ]
  },
  {
   "cell_type": "code",
   "execution_count": 22,
   "metadata": {
    "collapsed": false
   },
   "outputs": [
    {
     "data": {
      "text/plain": [
       "<matplotlib.axes._subplots.AxesSubplot at 0x115e199b0>"
      ]
     },
     "execution_count": 22,
     "metadata": {},
     "output_type": "execute_result"
    },
    {
     "data": {
      "image/png": "[encoded data removed]",
      "text/plain": [
       "<Figure size 432x288 with 1 Axes>"
      ]
     },
     "metadata": {
      "needs_background": "light"
     },
     "output_type": "display_data"
    }
   ],
   "source": [
    "ex3.load_metric('dummy_score', trial_id=[1, 2]).plot()"
   ]
  }
 ],
 "metadata": {
  "kernelspec": {
   "display_name": "Python 3",
   "language": "python",
   "name": "python3"
  },
  "language_info": {
   "codemirror_mode": {
    "name": "ipython",
    "version": 3
   },
   "file_extension": ".py",
   "mimetype": "text/x-python",
   "name": "python",
   "nbconvert_exporter": "python",
   "pygments_lexer": "ipython3",
   "version": "3.6.6"
  }
 },
 "nbformat": 4,
 "nbformat_minor": 2
}
