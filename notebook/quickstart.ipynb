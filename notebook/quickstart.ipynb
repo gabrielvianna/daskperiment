{
 "cells": [
  {
   "cell_type": "markdown",
   "metadata": {},
   "source": [
    "# Quickstart"
   ]
  },
  {
   "cell_type": "markdown",
   "metadata": {},
   "source": [
    "This notebook shows a quickstart of `daskperiment`."
   ]
  },
  {
   "cell_type": "code",
   "execution_count": 1,
   "metadata": {
    "collapsed": false
   },
   "outputs": [],
   "source": [
    "%matplotlib inline\n",
    "import numpy as np\n",
    "import daskperiment"
   ]
  },
  {
   "cell_type": "markdown",
   "metadata": {},
   "source": [
    "First, create `daskperiment.Experiment` instance. This instance controlls an experiment, a chain of functions to output value and a collection of input variables."
   ]
  },
  {
   "cell_type": "code",
   "execution_count": 2,
   "metadata": {
    "collapsed": false
   },
   "outputs": [
    {
     "name": "stderr",
     "output_type": "stream",
     "text": [
      "2019-01-25 09:49:14,880 [daskperiment.core.experiment] [INFO] Experiment(id: quickstart_pj, version: 0) is being initialized\n",
      "2019-01-25 09:49:14,905 [daskperiment.core.environment] [INFO] Platform: Darwin-17.7.0-x86_64-i386-64bit\n",
      "2019-01-25 09:49:14,908 [daskperiment.core.environment] [INFO] Python: CPython 3.6.6\n",
      "2019-01-25 09:49:14,911 [daskperiment.core.environment] [INFO] daskperiment version: 0.1.0\n",
      "2019-01-25 09:49:14,914 [daskperiment.core.environment] [INFO] daskperiment path: /Users/sinhrks/Git/daskperiment/daskperiment\n",
      "2019-01-25 09:49:14,917 [daskperiment.core.environment] [INFO] Working directory: /Users/sinhrks/Git/daskperiment/notebook\n",
      "2019-01-25 09:49:14,919 [daskperiment.core.experiment] [INFO] Use existing cache directory: /Users/sinhrks/Git/daskperiment/notebook/cache/quickstart_pj_0\n"
     ]
    }
   ],
   "source": [
    "ex = daskperiment.Experiment(id='quickstart_pj')"
   ]
  },
  {
   "cell_type": "markdown",
   "metadata": {},
   "source": [
    "Then, use `Experiment.parameter` method to define parameters (input variables for the experiment). The actual value of each parameter can be changed in every trial."
   ]
  },
  {
   "cell_type": "code",
   "execution_count": 3,
   "metadata": {
    "collapsed": false
   },
   "outputs": [
    {
     "data": {
      "text/plain": [
       "Parameter(a: Undefined)"
      ]
     },
     "execution_count": 3,
     "metadata": {},
     "output_type": "execute_result"
    }
   ],
   "source": [
    "a = ex.parameter('a')\n",
    "b = ex.parameter('b')\n",
    "a"
   ]
  },
  {
   "cell_type": "markdown",
   "metadata": {},
   "source": [
    "Next, you can define each experiment step (function) by decorating with `Experiment` instance (`@ex`).\n",
    "\n",
    "Note that the function to output the final result (mostly objective value to be minimized or maximized) must be decorated with `Experiment.result`. The chain of these functions are expressed as `Dask.Delayed` instance."
   ]
  },
  {
   "cell_type": "code",
   "execution_count": 4,
   "metadata": {
    "collapsed": false,
    "scrolled": false
   },
   "outputs": [
    {
     "data": {
      "text/plain": [
       "Delayed('calculate_score-3800a444-4bce-4383-b65a-fd5d3c88b8db')"
      ]
     },
     "execution_count": 4,
     "metadata": {},
     "output_type": "execute_result"
    }
   ],
   "source": [
    "@ex\n",
    "def prepare_data(a, b):\n",
    "    return a + b\n",
    "\n",
    "@ex.result\n",
    "def calculate_score(s):\n",
    "    return s + 1\n",
    "\n",
    "d = prepare_data(a, b)\n",
    "s = calculate_score(d)\n",
    "s"
   ]
  },
  {
   "cell_type": "markdown",
   "metadata": {},
   "source": [
    "Thus, you can visualize computation graph via `.visualize` method."
   ]
  },
  {
   "cell_type": "code",
   "execution_count": 5,
   "metadata": {
    "collapsed": false
   },
   "outputs": [
    {
     "data": {
      "image/png": "[encoded data removed]",
      "text/plain": [
       "<IPython.core.display.Image object>"
      ]
     },
     "execution_count": 5,
     "metadata": {},
     "output_type": "execute_result"
    }
   ],
   "source": [
    "s.visualize()"
   ]
  },
  {
   "cell_type": "markdown",
   "metadata": {},
   "source": [
    "Use `Experiment.set_parameters` method to set parameters for a trial. After setting parameters, `Parameter` variable and experiment result will be computable.\n",
    "\n",
    "Parameters are recommended to be a scalar (or lightweight value) because these are stored as history (for example, passing filename as a parameter is　preffered rather than passing `DataFrame`)."
   ]
  },
  {
   "cell_type": "code",
   "execution_count": 6,
   "metadata": {
    "collapsed": false,
    "scrolled": false
   },
   "outputs": [
    {
     "name": "stderr",
     "output_type": "stream",
     "text": [
      "2019-01-25 09:49:15,709 [daskperiment.core.experiment] [INFO] Updated parameters: a=1, b=2\n"
     ]
    },
    {
     "data": {
      "text/plain": [
       "1"
      ]
     },
     "execution_count": 6,
     "metadata": {},
     "output_type": "execute_result"
    }
   ],
   "source": [
    "ex.set_parameters(a=1, b=2)\n",
    "a.compute()"
   ]
  },
  {
   "cell_type": "code",
   "execution_count": 7,
   "metadata": {
    "collapsed": false
   },
   "outputs": [
    {
     "name": "stderr",
     "output_type": "stream",
     "text": [
      "2019-01-25 09:49:15,733 [daskperiment.core.experiment] [INFO] Started Experiment (trial id=1)\n",
      "2019-01-25 09:49:15,740 [daskperiment.core.experiment] [INFO] Target: calculate_score-3800a444-4bce-4383-b65a-fd5d3c88b8db\n",
      "2019-01-25 09:49:15,743 [daskperiment.core.experiment] [INFO] Parameters: a=1, b=2\n",
      "2019-01-25 09:49:15,751 [daskperiment.core.experiment] [INFO] Finished Experiment (trial id=1)\n"
     ]
    },
    {
     "data": {
      "text/plain": [
       "4"
      ]
     },
     "execution_count": 7,
     "metadata": {},
     "output_type": "execute_result"
    }
   ],
   "source": [
    "s.compute()"
   ]
  },
  {
   "cell_type": "markdown",
   "metadata": {},
   "source": [
    "You can update any parameters for next trial. Every trials can be distinguished by trial id."
   ]
  },
  {
   "cell_type": "code",
   "execution_count": 8,
   "metadata": {
    "collapsed": false,
    "scrolled": true
   },
   "outputs": [
    {
     "name": "stderr",
     "output_type": "stream",
     "text": [
      "2019-01-25 09:49:15,773 [daskperiment.core.experiment] [INFO] Updated parameters: a=1, b=3\n",
      "2019-01-25 09:49:15,778 [daskperiment.core.experiment] [INFO] Started Experiment (trial id=2)\n",
      "2019-01-25 09:49:15,781 [daskperiment.core.experiment] [INFO] Target: calculate_score-3800a444-4bce-4383-b65a-fd5d3c88b8db\n",
      "2019-01-25 09:49:15,783 [daskperiment.core.experiment] [INFO] Parameters: a=1, b=3\n",
      "2019-01-25 09:49:15,787 [daskperiment.core.experiment] [INFO] Finished Experiment (trial id=2)\n"
     ]
    },
    {
     "data": {
      "text/plain": [
       "5"
      ]
     },
     "execution_count": 8,
     "metadata": {},
     "output_type": "execute_result"
    }
   ],
   "source": [
    "ex.set_parameters(b=3)\n",
    "s.compute()"
   ]
  },
  {
   "cell_type": "markdown",
   "metadata": {},
   "source": [
    "After some trials, you can retrieve parameter values specifying trial id."
   ]
  },
  {
   "cell_type": "code",
   "execution_count": 9,
   "metadata": {
    "collapsed": false,
    "scrolled": true
   },
   "outputs": [
    {
     "data": {
      "text/plain": [
       "{'a': 1, 'b': 2}"
      ]
     },
     "execution_count": 9,
     "metadata": {},
     "output_type": "execute_result"
    }
   ],
   "source": [
    "ex.get_parameters(trial_id=1)"
   ]
  },
  {
   "cell_type": "code",
   "execution_count": 10,
   "metadata": {
    "collapsed": false
   },
   "outputs": [
    {
     "data": {
      "text/plain": [
       "{'a': 1, 'b': 3}"
      ]
     },
     "execution_count": 10,
     "metadata": {},
     "output_type": "execute_result"
    }
   ],
   "source": [
    "ex.get_parameters(trial_id=2)"
   ]
  },
  {
   "cell_type": "markdown",
   "metadata": {},
   "source": [
    "`Experiment.get_history` will return a `DataFrame` which stores a history of trial parameters and its results. You can select desirable trial using `pandas` basic operation."
   ]
  },
  {
   "cell_type": "code",
   "execution_count": 11,
   "metadata": {
    "collapsed": false,
    "scrolled": true
   },
   "outputs": [
    {
     "data": {
      "text/html": [
       "<div>\n",
       "<style scoped>\n",
       "    .dataframe tbody tr th:only-of-type {\n",
       "        vertical-align: middle;\n",
       "    }\n",
       "\n",
       "    .dataframe tbody tr th {\n",
       "        vertical-align: top;\n",
       "    }\n",
       "\n",
       "    .dataframe thead th {\n",
       "        text-align: right;\n",
       "    }\n",
       "</style>\n",
       "<table border=\"1\" class=\"dataframe\">\n",
       "  <thead>\n",
       "    <tr style=\"text-align: right;\">\n",
       "      <th></th>\n",
       "      <th>a</th>\n",
       "      <th>b</th>\n",
       "      <th>Result</th>\n",
       "      <th>Finished</th>\n",
       "      <th>Process Time</th>\n",
       "    </tr>\n",
       "    <tr>\n",
       "      <th>Trial ID</th>\n",
       "      <th></th>\n",
       "      <th></th>\n",
       "      <th></th>\n",
       "      <th></th>\n",
       "      <th></th>\n",
       "    </tr>\n",
       "  </thead>\n",
       "  <tbody>\n",
       "    <tr>\n",
       "      <th>1</th>\n",
       "      <td>1</td>\n",
       "      <td>2</td>\n",
       "      <td>4</td>\n",
       "      <td>2019-01-25 09:49:15.750826</td>\n",
       "      <td>00:00:00.017430</td>\n",
       "    </tr>\n",
       "    <tr>\n",
       "      <th>2</th>\n",
       "      <td>1</td>\n",
       "      <td>3</td>\n",
       "      <td>5</td>\n",
       "      <td>2019-01-25 09:49:15.787818</td>\n",
       "      <td>00:00:00.009655</td>\n",
       "    </tr>\n",
       "  </tbody>\n",
       "</table>\n",
       "</div>"
      ],
      "text/plain": [
       "          a  b  Result                   Finished    Process Time\n",
       "Trial ID                                                         \n",
       "1         1  2       4 2019-01-25 09:49:15.750826 00:00:00.017430\n",
       "2         1  3       5 2019-01-25 09:49:15.787818 00:00:00.009655"
      ]
     },
     "execution_count": 11,
     "metadata": {},
     "output_type": "execute_result"
    }
   ],
   "source": [
    "ex.get_history()"
   ]
  },
  {
   "cell_type": "markdown",
   "metadata": {},
   "source": [
    "# Handling intermediate result"
   ]
  },
  {
   "cell_type": "markdown",
   "metadata": {},
   "source": [
    "Next example shows how to retrieve an intermediate result of the chain.\n",
    "\n",
    "After creating another `Experiment` instance, use `Experiment.persist` decorator at the function to keep its intermediate result. Other usages are all the same. Note that an intermediate result is saved as a pickle file named with its function name, function name must be unique in the experiment."
   ]
  },
  {
   "cell_type": "code",
   "execution_count": 12,
   "metadata": {
    "collapsed": false,
    "scrolled": true
   },
   "outputs": [
    {
     "name": "stderr",
     "output_type": "stream",
     "text": [
      "2019-01-25 09:49:15,935 [daskperiment.core.experiment] [INFO] Experiment(id: persist_pj, version: 0) is being initialized\n",
      "2019-01-25 09:49:15,941 [daskperiment.core.environment] [INFO] Platform: Darwin-17.7.0-x86_64-i386-64bit\n",
      "2019-01-25 09:49:15,943 [daskperiment.core.environment] [INFO] Python: CPython 3.6.6\n",
      "2019-01-25 09:49:15,946 [daskperiment.core.environment] [INFO] daskperiment version: 0.1.0\n",
      "2019-01-25 09:49:15,950 [daskperiment.core.environment] [INFO] daskperiment path: /Users/sinhrks/Git/daskperiment/daskperiment\n",
      "2019-01-25 09:49:15,954 [daskperiment.core.environment] [INFO] Working directory: /Users/sinhrks/Git/daskperiment/notebook\n",
      "2019-01-25 09:49:15,959 [daskperiment.core.experiment] [INFO] Use existing cache directory: /Users/sinhrks/Git/daskperiment/notebook/cache/persist_pj_0\n"
     ]
    }
   ],
   "source": [
    "ex2 = daskperiment.Experiment(id='persist_pj')\n",
    "\n",
    "a = ex2.parameter('a')\n",
    "b = ex2.parameter('b')\n",
    "\n",
    "@ex2.persist\n",
    "def prepare_data(a, b):\n",
    "    return a + b\n",
    "\n",
    "@ex2.result\n",
    "def calculate_score(s):\n",
    "    return s + 1\n",
    "\n",
    "d = prepare_data(a, b)\n",
    "s = calculate_score(d)"
   ]
  },
  {
   "cell_type": "markdown",
   "metadata": {},
   "source": [
    "Performing some trials."
   ]
  },
  {
   "cell_type": "code",
   "execution_count": 13,
   "metadata": {
    "collapsed": false
   },
   "outputs": [
    {
     "name": "stderr",
     "output_type": "stream",
     "text": [
      "2019-01-25 09:49:15,975 [daskperiment.core.experiment] [INFO] Updated parameters: a=1, b=2\n",
      "2019-01-25 09:49:15,977 [daskperiment.core.experiment] [INFO] Started Experiment (trial id=1)\n",
      "2019-01-25 09:49:15,979 [daskperiment.core.experiment] [INFO] Target: calculate_score-96e89c1d-5b52-462a-a1bd-4e7fdeb60a25\n",
      "2019-01-25 09:49:15,980 [daskperiment.core.experiment] [INFO] Parameters: a=1, b=2\n",
      "2019-01-25 09:49:15,983 [daskperiment.core.experiment] [INFO] Saving intermediate result (trial id=1): prepare_data(path=cache/persist_pj_0/persist_pj_0_prepare_data_1.pkl)\n",
      "2019-01-25 09:49:15,987 [daskperiment.core.experiment] [INFO] Finished Experiment (trial id=1)\n"
     ]
    },
    {
     "data": {
      "text/plain": [
       "4"
      ]
     },
     "execution_count": 13,
     "metadata": {},
     "output_type": "execute_result"
    }
   ],
   "source": [
    "ex2.set_parameters(a=1, b=2)\n",
    "s.compute()"
   ]
  },
  {
   "cell_type": "code",
   "execution_count": 14,
   "metadata": {
    "collapsed": false
   },
   "outputs": [
    {
     "name": "stderr",
     "output_type": "stream",
     "text": [
      "2019-01-25 09:49:15,997 [daskperiment.core.experiment] [INFO] Updated parameters: a=3, b=2\n",
      "2019-01-25 09:49:15,998 [daskperiment.core.experiment] [INFO] Started Experiment (trial id=2)\n",
      "2019-01-25 09:49:16,000 [daskperiment.core.experiment] [INFO] Target: calculate_score-96e89c1d-5b52-462a-a1bd-4e7fdeb60a25\n",
      "2019-01-25 09:49:16,002 [daskperiment.core.experiment] [INFO] Parameters: a=3, b=2\n",
      "2019-01-25 09:49:16,005 [daskperiment.core.experiment] [INFO] Saving intermediate result (trial id=2): prepare_data(path=cache/persist_pj_0/persist_pj_0_prepare_data_2.pkl)\n",
      "2019-01-25 09:49:16,008 [daskperiment.core.experiment] [INFO] Finished Experiment (trial id=2)\n"
     ]
    },
    {
     "data": {
      "text/plain": [
       "6"
      ]
     },
     "execution_count": 14,
     "metadata": {},
     "output_type": "execute_result"
    }
   ],
   "source": [
    "ex2.set_parameters(a=3, b=2)\n",
    "s.compute()"
   ]
  },
  {
   "cell_type": "markdown",
   "metadata": {},
   "source": [
    "You can retrieve an intermediate results via `Experiment.get_persisted` method by specifying function name and trial id."
   ]
  },
  {
   "cell_type": "code",
   "execution_count": 15,
   "metadata": {
    "collapsed": false
   },
   "outputs": [
    {
     "data": {
      "text/plain": [
       "3"
      ]
     },
     "execution_count": 15,
     "metadata": {},
     "output_type": "execute_result"
    }
   ],
   "source": [
    "ex2.get_persisted('prepare_data', trial_id=1)"
   ]
  },
  {
   "cell_type": "code",
   "execution_count": 16,
   "metadata": {
    "collapsed": false
   },
   "outputs": [
    {
     "data": {
      "text/plain": [
       "5"
      ]
     },
     "execution_count": 16,
     "metadata": {},
     "output_type": "execute_result"
    }
   ],
   "source": [
    "ex2.get_persisted('prepare_data', trial_id=2)"
   ]
  },
  {
   "cell_type": "markdown",
   "metadata": {},
   "source": [
    "# Monitoring metrics"
   ]
  },
  {
   "cell_type": "markdown",
   "metadata": {},
   "source": [
    "You may want to monitor transition of some metrics during each trial. Each experiment function can call `Experiment.save_metric` to save metric with its key (name) and epoch."
   ]
  },
  {
   "cell_type": "code",
   "execution_count": 17,
   "metadata": {
    "collapsed": false
   },
   "outputs": [
    {
     "name": "stderr",
     "output_type": "stream",
     "text": [
      "2019-01-25 09:49:16,067 [daskperiment.core.experiment] [INFO] Experiment(id: metric_pj, version: 0) is being initialized\n",
      "2019-01-25 09:49:16,072 [daskperiment.core.environment] [INFO] Platform: Darwin-17.7.0-x86_64-i386-64bit\n",
      "2019-01-25 09:49:16,074 [daskperiment.core.environment] [INFO] Python: CPython 3.6.6\n",
      "2019-01-25 09:49:16,075 [daskperiment.core.environment] [INFO] daskperiment version: 0.1.0\n",
      "2019-01-25 09:49:16,076 [daskperiment.core.environment] [INFO] daskperiment path: /Users/sinhrks/Git/daskperiment/daskperiment\n",
      "2019-01-25 09:49:16,078 [daskperiment.core.environment] [INFO] Working directory: /Users/sinhrks/Git/daskperiment/notebook\n",
      "2019-01-25 09:49:16,079 [daskperiment.core.experiment] [INFO] Use existing cache directory: /Users/sinhrks/Git/daskperiment/notebook/cache/metric_pj_0\n"
     ]
    }
   ],
   "source": [
    "ex3 = daskperiment.Experiment(id='metric_pj')\n",
    "\n",
    "a = ex3.parameter('a')\n",
    "b = ex3.parameter('b')\n",
    "\n",
    "@ex3\n",
    "def prepare_data(a, b):\n",
    "    return a + b\n",
    "\n",
    "@ex3.result\n",
    "def calculate_score(s):\n",
    "    for i in range(100):\n",
    "        ex3.save_metric('dummy_score', epoch=i, value=100 - np.random.random() * i)\n",
    "        \n",
    "    return s + 1\n",
    "\n",
    "d = prepare_data(a, b)\n",
    "s = calculate_score(d)"
   ]
  },
  {
   "cell_type": "code",
   "execution_count": 18,
   "metadata": {
    "collapsed": false,
    "scrolled": true
   },
   "outputs": [
    {
     "name": "stderr",
     "output_type": "stream",
     "text": [
      "2019-01-25 09:49:16,087 [daskperiment.core.experiment] [INFO] Updated parameters: a=1, b=2\n",
      "2019-01-25 09:49:16,093 [daskperiment.core.experiment] [INFO] Started Experiment (trial id=1)\n",
      "2019-01-25 09:49:16,094 [daskperiment.core.experiment] [INFO] Target: calculate_score-223b6f0e-9275-4e36-806e-11b819133318\n",
      "2019-01-25 09:49:16,101 [daskperiment.core.experiment] [INFO] Parameters: a=1, b=2\n",
      "2019-01-25 09:49:16,107 [daskperiment.core.experiment] [INFO] Finished Experiment (trial id=1)\n"
     ]
    },
    {
     "data": {
      "text/plain": [
       "4"
      ]
     },
     "execution_count": 18,
     "metadata": {},
     "output_type": "execute_result"
    }
   ],
   "source": [
    "ex3.set_parameters(a=1, b=2)\n",
    "s.compute()"
   ]
  },
  {
   "cell_type": "markdown",
   "metadata": {},
   "source": [
    "After a trial, you can load saved metric using `Experiment.load_metric` specifying its name and trial_id. As it is returned as `DataFrame`, you can easily investigate it."
   ]
  },
  {
   "cell_type": "code",
   "execution_count": 19,
   "metadata": {
    "collapsed": false
   },
   "outputs": [
    {
     "data": {
      "text/html": [
       "<div>\n",
       "<style scoped>\n",
       "    .dataframe tbody tr th:only-of-type {\n",
       "        vertical-align: middle;\n",
       "    }\n",
       "\n",
       "    .dataframe tbody tr th {\n",
       "        vertical-align: top;\n",
       "    }\n",
       "\n",
       "    .dataframe thead th {\n",
       "        text-align: right;\n",
       "    }\n",
       "</style>\n",
       "<table border=\"1\" class=\"dataframe\">\n",
       "  <thead>\n",
       "    <tr style=\"text-align: right;\">\n",
       "      <th></th>\n",
       "      <th>1</th>\n",
       "    </tr>\n",
       "    <tr>\n",
       "      <th>Epoch</th>\n",
       "      <th></th>\n",
       "    </tr>\n",
       "  </thead>\n",
       "  <tbody>\n",
       "    <tr>\n",
       "      <th>0</th>\n",
       "      <td>100.000000</td>\n",
       "    </tr>\n",
       "    <tr>\n",
       "      <th>1</th>\n",
       "      <td>99.508714</td>\n",
       "    </tr>\n",
       "    <tr>\n",
       "      <th>2</th>\n",
       "      <td>98.956936</td>\n",
       "    </tr>\n",
       "    <tr>\n",
       "      <th>3</th>\n",
       "      <td>97.067801</td>\n",
       "    </tr>\n",
       "    <tr>\n",
       "      <th>4</th>\n",
       "      <td>96.513775</td>\n",
       "    </tr>\n",
       "  </tbody>\n",
       "</table>\n",
       "</div>"
      ],
      "text/plain": [
       "                1\n",
       "Epoch            \n",
       "0      100.000000\n",
       "1       99.508714\n",
       "2       98.956936\n",
       "3       97.067801\n",
       "4       96.513775"
      ]
     },
     "execution_count": 19,
     "metadata": {},
     "output_type": "execute_result"
    }
   ],
   "source": [
    "dummy_score = ex3.load_metric('dummy_score', trial_id=1)\n",
    "dummy_score.head()"
   ]
  },
  {
   "cell_type": "code",
   "execution_count": 20,
   "metadata": {
    "collapsed": false
   },
   "outputs": [
    {
     "data": {
      "text/plain": [
       "<matplotlib.axes._subplots.AxesSubplot at 0x1109cca20>"
      ]
     },
     "execution_count": 20,
     "metadata": {},
     "output_type": "execute_result"
    },
    {
     "data": {
      "image/png": "[encoded data removed]",
      "text/plain": [
       "<Figure size 432x288 with 1 Axes>"
      ]
     },
     "metadata": {
      "needs_background": "light"
     },
     "output_type": "display_data"
    }
   ],
   "source": [
    "dummy_score.plot()"
   ]
  },
  {
   "cell_type": "markdown",
   "metadata": {},
   "source": [
    "Perform another trial."
   ]
  },
  {
   "cell_type": "code",
   "execution_count": 21,
   "metadata": {
    "collapsed": false
   },
   "outputs": [
    {
     "name": "stderr",
     "output_type": "stream",
     "text": [
      "2019-01-25 09:49:16,478 [daskperiment.core.experiment] [INFO] Updated parameters: a=3, b=4\n",
      "2019-01-25 09:49:16,480 [daskperiment.core.experiment] [INFO] Started Experiment (trial id=2)\n",
      "2019-01-25 09:49:16,482 [daskperiment.core.experiment] [INFO] Target: calculate_score-223b6f0e-9275-4e36-806e-11b819133318\n",
      "2019-01-25 09:49:16,484 [daskperiment.core.experiment] [INFO] Parameters: a=3, b=4\n",
      "2019-01-25 09:49:16,487 [daskperiment.core.experiment] [INFO] Finished Experiment (trial id=2)\n"
     ]
    },
    {
     "data": {
      "text/plain": [
       "8"
      ]
     },
     "execution_count": 21,
     "metadata": {},
     "output_type": "execute_result"
    }
   ],
   "source": [
    "ex3.set_parameters(a=3, b=4)\n",
    "s.compute()"
   ]
  },
  {
   "cell_type": "markdown",
   "metadata": {},
   "source": [
    "To compare metrics between trials, pass multiple trial ids to `Experiment.load_metric`."
   ]
  },
  {
   "cell_type": "code",
   "execution_count": 22,
   "metadata": {
    "collapsed": false
   },
   "outputs": [
    {
     "data": {
      "text/plain": [
       "<matplotlib.axes._subplots.AxesSubplot at 0x112ab4e10>"
      ]
     },
     "execution_count": 22,
     "metadata": {},
     "output_type": "execute_result"
    },
    {
     "data": {
      "image/png": "[encoded data removed]",
      "text/plain": [
       "<Figure size 432x288 with 1 Axes>"
      ]
     },
     "metadata": {
      "needs_background": "light"
     },
     "output_type": "display_data"
    }
   ],
   "source": [
    "ex3.load_metric('dummy_score', trial_id=[1, 2]).plot()"
   ]
  }
 ],
 "metadata": {
  "kernelspec": {
   "display_name": "Python 3",
   "language": "python",
   "name": "python3"
  },
  "language_info": {
   "codemirror_mode": {
    "name": "ipython",
    "version": 3
   },
   "file_extension": ".py",
   "mimetype": "text/x-python",
   "name": "python",
   "nbconvert_exporter": "python",
   "pygments_lexer": "ipython3",
   "version": "3.6.6"
  }
 },
 "nbformat": 4,
 "nbformat_minor": 2
}
