{
 "cells": [
  {
   "cell_type": "markdown",
   "metadata": {},
   "source": [
    "# Quickstart\n",
    "\n",
    "This notebook shows a quickstart of `daskperiment`.\n",
    "\n",
    "`daskperiment` is a lightweight tool to perform reproducible machine learning experiment using `Dask`. It can be used in both `Jupyter` and command line (and also in standard `Python` interpreter). The benefits of `daskperiemnt` are:\n",
    "\n",
    "- User-intuitive.\n",
    "  - Minimizing modifications of existing codes.\n",
    "  - Performing experiments using `Dask` compatible API.\n",
    "  - Easily handle experiments history (with `pandas` basic operations).\n",
    "  - Requires less work to manage with Git (no need to make branch per trials).\n",
    "- Tracking experiment result and its (hyper) parameters.\n",
    "- Tracking environment.\n",
    "  - OS Info\n",
    "  - Python version\n",
    "  - Installed package and its version\n",
    "- Tracking code context.\n",
    "- Auto saving and loading previous experiment history.\n",
    "- Parallel execution of experiment steps."
   ]
  },
  {
   "cell_type": "code",
   "execution_count": 1,
   "metadata": {
    "collapsed": false
   },
   "outputs": [],
   "source": [
    "%matplotlib inline\n",
    "import numpy as np\n",
    "import daskperiment"
   ]
  },
  {
   "cell_type": "markdown",
   "metadata": {},
   "source": [
    "First, create `daskperiment.Experiment` instance. This instance controlls an experiment, a chain of functions to output value and a collection of input variables."
   ]
  },
  {
   "cell_type": "code",
   "execution_count": 2,
   "metadata": {
    "collapsed": false,
    "scrolled": false
   },
   "outputs": [
    {
     "name": "stderr",
     "output_type": "stream",
     "text": [
      "2019-01-29 00:35:39,299 [daskperiment.io.serialize] [INFO] Creating new cache directory: /Users/sinhrks/Git/daskperiment/notebook/daskperiment_cache/quickstart_pj\n",
      "2019-01-29 00:35:39,302 [daskperiment.core.experiment] [INFO] Initialized new experiment: daskperiment_cache/quickstart_pj/quickstart_pj.pkl\n",
      "2019-01-29 00:35:39,355 [daskperiment.core.environment] [INFO] Platform: Darwin-17.7.0-x86_64-i386-64bit\n",
      "2019-01-29 00:35:39,359 [daskperiment.core.environment] [INFO] Python: CPython 3.6.6 (Jupyter Notebook)\n",
      "2019-01-29 00:35:39,363 [daskperiment.core.environment] [INFO] daskperiment version: 0.1.0.dev0\n",
      "2019-01-29 00:35:39,366 [daskperiment.core.environment] [INFO] daskperiment path: /Users/sinhrks/Git/daskperiment/daskperiment\n",
      "2019-01-29 00:35:39,368 [daskperiment.core.environment] [INFO] Working directory: /Users/sinhrks/Git/daskperiment/notebook\n",
      "2019-01-29 00:35:39,369 [daskperiment.core.environment] [INFO] Number of installed Python packages: 337\n"
     ]
    }
   ],
   "source": [
    "ex = daskperiment.Experiment(id='quickstart_pj')"
   ]
  },
  {
   "cell_type": "markdown",
   "metadata": {},
   "source": [
    "Then, use `Experiment.parameter` method to define parameters (input variables for the experiment). The actual value of each parameter can be changed in every trial."
   ]
  },
  {
   "cell_type": "code",
   "execution_count": 3,
   "metadata": {
    "collapsed": false
   },
   "outputs": [
    {
     "data": {
      "text/plain": [
       "Parameter(a: Undefined)"
      ]
     },
     "execution_count": 3,
     "metadata": {},
     "output_type": "execute_result"
    }
   ],
   "source": [
    "a = ex.parameter('a')\n",
    "b = ex.parameter('b')\n",
    "a"
   ]
  },
  {
   "cell_type": "markdown",
   "metadata": {},
   "source": [
    "Next, you can define each experiment step (function) by decorating with `Experiment` instance (`@ex`).\n",
    "\n",
    "Note that the function to output the final result (mostly objective value to be minimized or maximized) must be decorated with `Experiment.result`. The chain of these functions are expressed as `Dask.Delayed` instance."
   ]
  },
  {
   "cell_type": "code",
   "execution_count": 4,
   "metadata": {
    "collapsed": false,
    "scrolled": false
   },
   "outputs": [
    {
     "data": {
      "text/plain": [
       "Delayed('calculate_score-9ab49a8a-763e-49d0-b2ef-9bee40cfe79d')"
      ]
     },
     "execution_count": 4,
     "metadata": {},
     "output_type": "execute_result"
    }
   ],
   "source": [
    "@ex\n",
    "def prepare_data(a, b):\n",
    "    return a + b\n",
    "\n",
    "@ex.result\n",
    "def calculate_score(s):\n",
    "    return 10 / s\n",
    "\n",
    "d = prepare_data(a, b)\n",
    "s = calculate_score(d)\n",
    "s"
   ]
  },
  {
   "cell_type": "markdown",
   "metadata": {},
   "source": [
    "Thus, you can visualize computation graph via `.visualize` method."
   ]
  },
  {
   "cell_type": "code",
   "execution_count": 5,
   "metadata": {
    "collapsed": false
   },
   "outputs": [
    {
     "data": {
      "image/png": "[encoded data removed]",
      "text/plain": [
       "<IPython.core.display.Image object>"
      ]
     },
     "execution_count": 5,
     "metadata": {},
     "output_type": "execute_result"
    }
   ],
   "source": [
    "s.visualize()"
   ]
  },
  {
   "cell_type": "markdown",
   "metadata": {},
   "source": [
    "Use `Experiment.set_parameters` method to set parameters for a trial. After setting parameters, `Parameter` variable and experiment result will be computable.\n",
    "\n",
    "Parameters are recommended to be a scalar (or lightweight value) because these are stored as history (for example, passing filename as a parameter is　preffered rather than passing `DataFrame`)."
   ]
  },
  {
   "cell_type": "code",
   "execution_count": 6,
   "metadata": {
    "collapsed": false,
    "scrolled": false
   },
   "outputs": [
    {
     "name": "stderr",
     "output_type": "stream",
     "text": [
      "2019-01-29 00:35:40,346 [daskperiment.core.parameter] [INFO] Updated parameters: a=1<class 'int'>, b=2<class 'int'>\n"
     ]
    },
    {
     "data": {
      "text/plain": [
       "1"
      ]
     },
     "execution_count": 6,
     "metadata": {},
     "output_type": "execute_result"
    }
   ],
   "source": [
    "ex.set_parameters(a=1, b=2)\n",
    "a.compute()"
   ]
  },
  {
   "cell_type": "code",
   "execution_count": 7,
   "metadata": {
    "collapsed": false
   },
   "outputs": [
    {
     "name": "stderr",
     "output_type": "stream",
     "text": [
      "2019-01-29 00:35:40,425 [daskperiment.core.experiment] [INFO] Started Experiment (trial id=1)\n",
      "2019-01-29 00:35:40,430 [daskperiment.io.serialize] [INFO] Creating new code directory: /Users/sinhrks/Git/daskperiment/notebook/daskperiment_cache/quickstart_pj/code\n",
      "2019-01-29 00:35:40,433 [daskperiment.core.experiment] [INFO] Target: calculate_score-9ab49a8a-763e-49d0-b2ef-9bee40cfe79d\n",
      "2019-01-29 00:35:40,435 [daskperiment.core.experiment] [INFO] Parameters: a=1<class 'int'>, b=2<class 'int'>\n",
      "2019-01-29 00:35:40,448 [daskperiment.core.experiment] [INFO] Finished Experiment (trial id=1)\n",
      "2019-01-29 00:35:40,458 [daskperiment.io.serialize] [INFO] Saving Experiment(id: quickstart_pj, trial_id: 1) to path=daskperiment_cache/quickstart_pj/quickstart_pj.pkl\n"
     ]
    },
    {
     "data": {
      "text/plain": [
       "3.3333333333333335"
      ]
     },
     "execution_count": 7,
     "metadata": {},
     "output_type": "execute_result"
    }
   ],
   "source": [
    "s.compute()"
   ]
  },
  {
   "cell_type": "markdown",
   "metadata": {},
   "source": [
    "You can update any parameters for next trial. Every trials can be distinguished by trial id."
   ]
  },
  {
   "cell_type": "code",
   "execution_count": 8,
   "metadata": {
    "collapsed": false,
    "scrolled": true
   },
   "outputs": [
    {
     "name": "stderr",
     "output_type": "stream",
     "text": [
      "2019-01-29 00:35:40,512 [daskperiment.core.parameter] [INFO] Updated parameters: a=1<class 'int'>, b=3<class 'int'>\n",
      "2019-01-29 00:35:40,516 [daskperiment.core.experiment] [INFO] Started Experiment (trial id=2)\n",
      "2019-01-29 00:35:40,527 [daskperiment.core.experiment] [INFO] Target: calculate_score-9ab49a8a-763e-49d0-b2ef-9bee40cfe79d\n",
      "2019-01-29 00:35:40,528 [daskperiment.core.experiment] [INFO] Parameters: a=1<class 'int'>, b=3<class 'int'>\n",
      "2019-01-29 00:35:40,534 [daskperiment.core.experiment] [INFO] Finished Experiment (trial id=2)\n",
      "2019-01-29 00:35:40,535 [daskperiment.io.serialize] [INFO] Saving Experiment(id: quickstart_pj, trial_id: 2) to path=daskperiment_cache/quickstart_pj/quickstart_pj.pkl\n"
     ]
    },
    {
     "data": {
      "text/plain": [
       "2.5"
      ]
     },
     "execution_count": 8,
     "metadata": {},
     "output_type": "execute_result"
    }
   ],
   "source": [
    "ex.set_parameters(b=3)\n",
    "s.compute()"
   ]
  },
  {
   "cell_type": "markdown",
   "metadata": {},
   "source": [
    "After some trials, you can retrieve parameter values specifying trial id."
   ]
  },
  {
   "cell_type": "code",
   "execution_count": 9,
   "metadata": {
    "collapsed": false,
    "scrolled": true
   },
   "outputs": [
    {
     "data": {
      "text/plain": [
       "{'a': 1, 'b': 2}"
      ]
     },
     "execution_count": 9,
     "metadata": {},
     "output_type": "execute_result"
    }
   ],
   "source": [
    "ex.get_parameters(trial_id=1)"
   ]
  },
  {
   "cell_type": "code",
   "execution_count": 10,
   "metadata": {
    "collapsed": false
   },
   "outputs": [
    {
     "data": {
      "text/plain": [
       "{'a': 1, 'b': 3}"
      ]
     },
     "execution_count": 10,
     "metadata": {},
     "output_type": "execute_result"
    }
   ],
   "source": [
    "ex.get_parameters(trial_id=2)"
   ]
  },
  {
   "cell_type": "markdown",
   "metadata": {},
   "source": [
    "`Experiment.get_history` will return a `DataFrame` which stores a history of trial parameters and its results. You can select desirable trial using `pandas` basic operation."
   ]
  },
  {
   "cell_type": "code",
   "execution_count": 11,
   "metadata": {
    "collapsed": false,
    "scrolled": true
   },
   "outputs": [
    {
     "data": {
      "text/html": [
       "<div>\n",
       "<style scoped>\n",
       "    .dataframe tbody tr th:only-of-type {\n",
       "        vertical-align: middle;\n",
       "    }\n",
       "\n",
       "    .dataframe tbody tr th {\n",
       "        vertical-align: top;\n",
       "    }\n",
       "\n",
       "    .dataframe thead th {\n",
       "        text-align: right;\n",
       "    }\n",
       "</style>\n",
       "<table border=\"1\" class=\"dataframe\">\n",
       "  <thead>\n",
       "    <tr style=\"text-align: right;\">\n",
       "      <th></th>\n",
       "      <th>a</th>\n",
       "      <th>b</th>\n",
       "      <th>Result</th>\n",
       "      <th>Success</th>\n",
       "      <th>Finished</th>\n",
       "      <th>Process Time</th>\n",
       "      <th>Description</th>\n",
       "    </tr>\n",
       "    <tr>\n",
       "      <th>Trial ID</th>\n",
       "      <th></th>\n",
       "      <th></th>\n",
       "      <th></th>\n",
       "      <th></th>\n",
       "      <th></th>\n",
       "      <th></th>\n",
       "      <th></th>\n",
       "    </tr>\n",
       "  </thead>\n",
       "  <tbody>\n",
       "    <tr>\n",
       "      <th>1</th>\n",
       "      <td>1</td>\n",
       "      <td>2</td>\n",
       "      <td>3.333333</td>\n",
       "      <td>True</td>\n",
       "      <td>2019-01-29 00:35:40.448638</td>\n",
       "      <td>00:00:00.022798</td>\n",
       "      <td>NaN</td>\n",
       "    </tr>\n",
       "    <tr>\n",
       "      <th>2</th>\n",
       "      <td>1</td>\n",
       "      <td>3</td>\n",
       "      <td>2.500000</td>\n",
       "      <td>True</td>\n",
       "      <td>2019-01-29 00:35:40.534136</td>\n",
       "      <td>00:00:00.017846</td>\n",
       "      <td>NaN</td>\n",
       "    </tr>\n",
       "  </tbody>\n",
       "</table>\n",
       "</div>"
      ],
      "text/plain": [
       "          a  b    Result  Success                   Finished    Process Time  \\\n",
       "Trial ID                                                                       \n",
       "1         1  2  3.333333     True 2019-01-29 00:35:40.448638 00:00:00.022798   \n",
       "2         1  3  2.500000     True 2019-01-29 00:35:40.534136 00:00:00.017846   \n",
       "\n",
       "          Description  \n",
       "Trial ID               \n",
       "1                 NaN  \n",
       "2                 NaN  "
      ]
     },
     "execution_count": 11,
     "metadata": {},
     "output_type": "execute_result"
    }
   ],
   "source": [
    "ex.get_history()"
   ]
  },
  {
   "cell_type": "markdown",
   "metadata": {},
   "source": [
    "When any error occurs, `Experiment` instance stores the log as failed trial. The \"Description\" column contains the error detail."
   ]
  },
  {
   "cell_type": "code",
   "execution_count": 12,
   "metadata": {
    "collapsed": false
   },
   "outputs": [
    {
     "name": "stderr",
     "output_type": "stream",
     "text": [
      "2019-01-29 00:35:40,676 [daskperiment.core.parameter] [INFO] Updated parameters: a=1<class 'int'>, b=-1<class 'int'>\n",
      "2019-01-29 00:35:40,683 [daskperiment.core.experiment] [INFO] Started Experiment (trial id=3)\n",
      "2019-01-29 00:35:40,686 [daskperiment.core.experiment] [INFO] Target: calculate_score-9ab49a8a-763e-49d0-b2ef-9bee40cfe79d\n",
      "2019-01-29 00:35:40,687 [daskperiment.core.experiment] [INFO] Parameters: a=1<class 'int'>, b=-1<class 'int'>\n",
      "2019-01-29 00:35:40,694 [daskperiment.core.experiment] [ERROR] Experiment failed: ZeroDivisionError(division by zero)\n",
      "2019-01-29 00:35:40,697 [daskperiment.core.experiment] [INFO] Finished Experiment (trial id=3)\n",
      "2019-01-29 00:35:40,699 [daskperiment.io.serialize] [INFO] Saving Experiment(id: quickstart_pj, trial_id: 3) to path=daskperiment_cache/quickstart_pj/quickstart_pj.pkl\n"
     ]
    },
    {
     "name": "stdout",
     "output_type": "stream",
     "text": [
      "ZeroDivisionError(division by zero)\n"
     ]
    }
   ],
   "source": [
    "ex.set_parameters(a=1, b=-1)\n",
    "try:\n",
    "    s.compute()\n",
    "    \n",
    "except ZeroDivisionError as e:\n",
    "    # To hide stack trace\n",
    "    print('{}({})'.format(e.__class__.__name__, e))"
   ]
  },
  {
   "cell_type": "code",
   "execution_count": 13,
   "metadata": {
    "collapsed": false
   },
   "outputs": [
    {
     "data": {
      "text/html": [
       "<div>\n",
       "<style scoped>\n",
       "    .dataframe tbody tr th:only-of-type {\n",
       "        vertical-align: middle;\n",
       "    }\n",
       "\n",
       "    .dataframe tbody tr th {\n",
       "        vertical-align: top;\n",
       "    }\n",
       "\n",
       "    .dataframe thead th {\n",
       "        text-align: right;\n",
       "    }\n",
       "</style>\n",
       "<table border=\"1\" class=\"dataframe\">\n",
       "  <thead>\n",
       "    <tr style=\"text-align: right;\">\n",
       "      <th></th>\n",
       "      <th>a</th>\n",
       "      <th>b</th>\n",
       "      <th>Result</th>\n",
       "      <th>Success</th>\n",
       "      <th>Finished</th>\n",
       "      <th>Process Time</th>\n",
       "      <th>Description</th>\n",
       "    </tr>\n",
       "    <tr>\n",
       "      <th>Trial ID</th>\n",
       "      <th></th>\n",
       "      <th></th>\n",
       "      <th></th>\n",
       "      <th></th>\n",
       "      <th></th>\n",
       "      <th></th>\n",
       "      <th></th>\n",
       "    </tr>\n",
       "  </thead>\n",
       "  <tbody>\n",
       "    <tr>\n",
       "      <th>1</th>\n",
       "      <td>1</td>\n",
       "      <td>2</td>\n",
       "      <td>3.333333</td>\n",
       "      <td>True</td>\n",
       "      <td>2019-01-29 00:35:40.448638</td>\n",
       "      <td>00:00:00.022798</td>\n",
       "      <td>NaN</td>\n",
       "    </tr>\n",
       "    <tr>\n",
       "      <th>2</th>\n",
       "      <td>1</td>\n",
       "      <td>3</td>\n",
       "      <td>2.500000</td>\n",
       "      <td>True</td>\n",
       "      <td>2019-01-29 00:35:40.534136</td>\n",
       "      <td>00:00:00.017846</td>\n",
       "      <td>NaN</td>\n",
       "    </tr>\n",
       "    <tr>\n",
       "      <th>3</th>\n",
       "      <td>1</td>\n",
       "      <td>-1</td>\n",
       "      <td>NaN</td>\n",
       "      <td>False</td>\n",
       "      <td>2019-01-29 00:35:40.697316</td>\n",
       "      <td>00:00:00.014471</td>\n",
       "      <td>ZeroDivisionError(division by zero)</td>\n",
       "    </tr>\n",
       "  </tbody>\n",
       "</table>\n",
       "</div>"
      ],
      "text/plain": [
       "          a  b    Result  Success                   Finished    Process Time  \\\n",
       "Trial ID                                                                       \n",
       "1         1  2  3.333333     True 2019-01-29 00:35:40.448638 00:00:00.022798   \n",
       "2         1  3  2.500000     True 2019-01-29 00:35:40.534136 00:00:00.017846   \n",
       "3         1 -1       NaN    False 2019-01-29 00:35:40.697316 00:00:00.014471   \n",
       "\n",
       "                                  Description  \n",
       "Trial ID                                       \n",
       "1                                         NaN  \n",
       "2                                         NaN  \n",
       "3         ZeroDivisionError(division by zero)  "
      ]
     },
     "execution_count": 13,
     "metadata": {},
     "output_type": "execute_result"
    }
   ],
   "source": [
    "ex.get_history()"
   ]
  },
  {
   "cell_type": "markdown",
   "metadata": {},
   "source": [
    "Every time the computation performed, `Experiment` instance is automatically saved to specified cache directory. When `Experiment` instance is initialized, it automatically load previous trials (check trial id in the log)."
   ]
  },
  {
   "cell_type": "markdown",
   "metadata": {},
   "source": [
    "# Handling intermediate result"
   ]
  },
  {
   "cell_type": "markdown",
   "metadata": {},
   "source": [
    "Next example shows how to retrieve an intermediate result of the chain.\n",
    "\n",
    "The only difference is using `Experiment.persist` decorator. It makes `Experiment` instance to keep the decorated function's intermediate result. After definition, rebuilt the same workflow using the persisted function. \n",
    "\n",
    "Note that an intermediate result is saved as a pickle file named with its function name, function name must be unique in the experiment."
   ]
  },
  {
   "cell_type": "code",
   "execution_count": 14,
   "metadata": {
    "collapsed": false,
    "scrolled": true
   },
   "outputs": [
    {
     "name": "stderr",
     "output_type": "stream",
     "text": [
      "2019-01-29 00:35:40,804 [daskperiment.core.code] [WARNING] Code context has been changed: prepare_data\n",
      "2019-01-29 00:35:40,809 [daskperiment.core.code] [WARNING] @@ -1,3 +1,3 @@\n",
      "\n",
      "2019-01-29 00:35:40,811 [daskperiment.core.code] [WARNING] -@ex\n",
      "2019-01-29 00:35:40,813 [daskperiment.core.code] [WARNING] +@ex.persist\n",
      "2019-01-29 00:35:40,816 [daskperiment.core.code] [WARNING]  def prepare_data(a, b):\n",
      "2019-01-29 00:35:40,818 [daskperiment.core.code] [WARNING]      return a + b\n"
     ]
    }
   ],
   "source": [
    "@ex.persist\n",
    "def prepare_data(a, b):\n",
    "    return a + b\n",
    "\n",
    "d = prepare_data(a, b)\n",
    "s = calculate_score(d)"
   ]
  },
  {
   "cell_type": "markdown",
   "metadata": {},
   "source": [
    "NOTE: Also, you can notice that `daskperiment` outputs some \"WARNING\" indicating code contexts has been changed. It's because `daskperiment` automatically tracks code context to guarantee reproducibility.\n",
    "\n",
    "Let's perform some trials."
   ]
  },
  {
   "cell_type": "code",
   "execution_count": 15,
   "metadata": {
    "collapsed": false
   },
   "outputs": [
    {
     "name": "stderr",
     "output_type": "stream",
     "text": [
      "2019-01-29 00:35:40,828 [daskperiment.core.parameter] [INFO] Updated parameters: a=1<class 'int'>, b=2<class 'int'>\n",
      "2019-01-29 00:35:40,833 [daskperiment.core.experiment] [INFO] Started Experiment (trial id=4)\n",
      "2019-01-29 00:35:40,837 [daskperiment.core.experiment] [INFO] Target: calculate_score-53cb10f2-d273-4198-a1a0-7e3b32b4049a\n",
      "2019-01-29 00:35:40,838 [daskperiment.core.experiment] [INFO] Parameters: a=1<class 'int'>, b=2<class 'int'>\n",
      "2019-01-29 00:35:40,844 [daskperiment.io.serialize] [INFO] Creating new persist directory: /Users/sinhrks/Git/daskperiment/notebook/daskperiment_cache/quickstart_pj/persist\n",
      "2019-01-29 00:35:40,846 [daskperiment.io.serialize] [INFO] Saving 3 to path=daskperiment_cache/quickstart_pj/persist/quickstart_pj_prepare_data_4.pkl\n",
      "2019-01-29 00:35:40,852 [daskperiment.core.experiment] [INFO] Finished Experiment (trial id=4)\n",
      "2019-01-29 00:35:40,857 [daskperiment.io.serialize] [INFO] Saving Experiment(id: quickstart_pj, trial_id: 4) to path=daskperiment_cache/quickstart_pj/quickstart_pj.pkl\n"
     ]
    },
    {
     "data": {
      "text/plain": [
       "3.3333333333333335"
      ]
     },
     "execution_count": 15,
     "metadata": {},
     "output_type": "execute_result"
    }
   ],
   "source": [
    "ex.set_parameters(a=1, b=2)\n",
    "s.compute()"
   ]
  },
  {
   "cell_type": "code",
   "execution_count": 16,
   "metadata": {
    "collapsed": false
   },
   "outputs": [
    {
     "name": "stderr",
     "output_type": "stream",
     "text": [
      "2019-01-29 00:35:40,888 [daskperiment.core.parameter] [INFO] Updated parameters: a=3<class 'int'>, b=2<class 'int'>\n",
      "2019-01-29 00:35:40,900 [daskperiment.core.experiment] [INFO] Started Experiment (trial id=5)\n",
      "2019-01-29 00:35:40,905 [daskperiment.core.experiment] [INFO] Target: calculate_score-53cb10f2-d273-4198-a1a0-7e3b32b4049a\n",
      "2019-01-29 00:35:40,907 [daskperiment.core.experiment] [INFO] Parameters: a=3<class 'int'>, b=2<class 'int'>\n",
      "2019-01-29 00:35:40,910 [daskperiment.io.serialize] [INFO] Saving 5 to path=daskperiment_cache/quickstart_pj/persist/quickstart_pj_prepare_data_5.pkl\n",
      "2019-01-29 00:35:40,914 [daskperiment.core.experiment] [INFO] Finished Experiment (trial id=5)\n",
      "2019-01-29 00:35:40,916 [daskperiment.io.serialize] [INFO] Saving Experiment(id: quickstart_pj, trial_id: 5) to path=daskperiment_cache/quickstart_pj/quickstart_pj.pkl\n"
     ]
    },
    {
     "data": {
      "text/plain": [
       "2.0"
      ]
     },
     "execution_count": 16,
     "metadata": {},
     "output_type": "execute_result"
    }
   ],
   "source": [
    "ex.set_parameters(a=3, b=2)\n",
    "s.compute()"
   ]
  },
  {
   "cell_type": "markdown",
   "metadata": {},
   "source": [
    "You can retrieve intermediate results via `Experiment.get_persisted` method by specifying function name and trial id."
   ]
  },
  {
   "cell_type": "code",
   "execution_count": 17,
   "metadata": {
    "collapsed": false
   },
   "outputs": [
    {
     "name": "stderr",
     "output_type": "stream",
     "text": [
      "2019-01-29 00:35:40,942 [daskperiment.io.serialize] [INFO] Loaded 3 from path=daskperiment_cache/quickstart_pj/persist/quickstart_pj_prepare_data_4.pkl\n"
     ]
    },
    {
     "data": {
      "text/plain": [
       "3"
      ]
     },
     "execution_count": 17,
     "metadata": {},
     "output_type": "execute_result"
    }
   ],
   "source": [
    "ex.get_persisted('prepare_data', trial_id=4)"
   ]
  },
  {
   "cell_type": "code",
   "execution_count": 18,
   "metadata": {
    "collapsed": false
   },
   "outputs": [
    {
     "name": "stderr",
     "output_type": "stream",
     "text": [
      "2019-01-29 00:35:40,957 [daskperiment.io.serialize] [INFO] Loaded 5 from path=daskperiment_cache/quickstart_pj/persist/quickstart_pj_prepare_data_5.pkl\n"
     ]
    },
    {
     "data": {
      "text/plain": [
       "5"
      ]
     },
     "execution_count": 18,
     "metadata": {},
     "output_type": "execute_result"
    }
   ],
   "source": [
    "ex.get_persisted('prepare_data', trial_id=5)"
   ]
  },
  {
   "cell_type": "markdown",
   "metadata": {},
   "source": [
    "# Monitoring metrics"
   ]
  },
  {
   "cell_type": "markdown",
   "metadata": {},
   "source": [
    "You may need to monitor transition of some metrics during each trial. In each experiment function, you can call `Experiment.save_metric` to save metric with its key (name) and epoch."
   ]
  },
  {
   "cell_type": "code",
   "execution_count": 19,
   "metadata": {
    "collapsed": false,
    "scrolled": true
   },
   "outputs": [
    {
     "name": "stderr",
     "output_type": "stream",
     "text": [
      "2019-01-29 00:35:40,977 [daskperiment.core.code] [WARNING] Code context has been changed: calculate_score\n",
      "2019-01-29 00:35:40,980 [daskperiment.core.code] [WARNING] @@ -1,3 +1,6 @@\n",
      "\n",
      "2019-01-29 00:35:40,981 [daskperiment.core.code] [WARNING]  @ex.result\n",
      "2019-01-29 00:35:40,983 [daskperiment.core.code] [WARNING]  def calculate_score(s):\n",
      "2019-01-29 00:35:40,985 [daskperiment.core.code] [WARNING] +    for i in range(100):\n",
      "2019-01-29 00:35:40,987 [daskperiment.core.code] [WARNING] +        ex.save_metric('dummy_score', epoch=i, value=100 - np.random.random() * i)\n",
      "2019-01-29 00:35:40,989 [daskperiment.core.code] [WARNING] +        \n",
      "2019-01-29 00:35:40,993 [daskperiment.core.code] [WARNING]      return 10 / s\n"
     ]
    }
   ],
   "source": [
    "@ex.result\n",
    "def calculate_score(s):\n",
    "    for i in range(100):\n",
    "        ex.save_metric('dummy_score', epoch=i, value=100 - np.random.random() * i)\n",
    "        \n",
    "    return 10 / s\n",
    "\n",
    "d = prepare_data(a, b)\n",
    "s = calculate_score(d)"
   ]
  },
  {
   "cell_type": "code",
   "execution_count": 20,
   "metadata": {
    "collapsed": false,
    "scrolled": false
   },
   "outputs": [
    {
     "name": "stderr",
     "output_type": "stream",
     "text": [
      "2019-01-29 00:35:41,015 [daskperiment.core.parameter] [INFO] Updated parameters: a=1<class 'int'>, b=2<class 'int'>\n",
      "2019-01-29 00:35:41,019 [daskperiment.core.experiment] [INFO] Started Experiment (trial id=6)\n",
      "2019-01-29 00:35:41,025 [daskperiment.core.experiment] [INFO] Target: calculate_score-d6523cfb-62ec-4bb7-a9b9-5445bd7d0a6e\n",
      "2019-01-29 00:35:41,028 [daskperiment.core.experiment] [INFO] Parameters: a=1<class 'int'>, b=2<class 'int'>\n",
      "2019-01-29 00:35:41,031 [daskperiment.io.serialize] [INFO] Saving 3 to path=daskperiment_cache/quickstart_pj/persist/quickstart_pj_prepare_data_6.pkl\n",
      "2019-01-29 00:35:41,035 [daskperiment.core.experiment] [INFO] Finished Experiment (trial id=6)\n",
      "2019-01-29 00:35:41,037 [daskperiment.io.serialize] [INFO] Saving Experiment(id: quickstart_pj, trial_id: 6) to path=daskperiment_cache/quickstart_pj/quickstart_pj.pkl\n"
     ]
    },
    {
     "data": {
      "text/plain": [
       "3.3333333333333335"
      ]
     },
     "execution_count": 20,
     "metadata": {},
     "output_type": "execute_result"
    }
   ],
   "source": [
    "ex.set_parameters(a=1, b=2)\n",
    "s.compute()"
   ]
  },
  {
   "cell_type": "markdown",
   "metadata": {},
   "source": [
    "After a trial, you can load saved metric using `Experiment.load_metric` specifying its name and trial_id. As it is returned as `DataFrame`, you can easily investigate it."
   ]
  },
  {
   "cell_type": "code",
   "execution_count": 21,
   "metadata": {
    "collapsed": false
   },
   "outputs": [
    {
     "data": {
      "text/html": [
       "<div>\n",
       "<style scoped>\n",
       "    .dataframe tbody tr th:only-of-type {\n",
       "        vertical-align: middle;\n",
       "    }\n",
       "\n",
       "    .dataframe tbody tr th {\n",
       "        vertical-align: top;\n",
       "    }\n",
       "\n",
       "    .dataframe thead th {\n",
       "        text-align: right;\n",
       "    }\n",
       "</style>\n",
       "<table border=\"1\" class=\"dataframe\">\n",
       "  <thead>\n",
       "    <tr style=\"text-align: right;\">\n",
       "      <th>Trial ID</th>\n",
       "      <th>6</th>\n",
       "    </tr>\n",
       "    <tr>\n",
       "      <th>Epoch</th>\n",
       "      <th></th>\n",
       "    </tr>\n",
       "  </thead>\n",
       "  <tbody>\n",
       "    <tr>\n",
       "      <th>0</th>\n",
       "      <td>100.000000</td>\n",
       "    </tr>\n",
       "    <tr>\n",
       "      <th>1</th>\n",
       "      <td>99.897920</td>\n",
       "    </tr>\n",
       "    <tr>\n",
       "      <th>2</th>\n",
       "      <td>98.422411</td>\n",
       "    </tr>\n",
       "    <tr>\n",
       "      <th>3</th>\n",
       "      <td>97.987475</td>\n",
       "    </tr>\n",
       "    <tr>\n",
       "      <th>4</th>\n",
       "      <td>98.298246</td>\n",
       "    </tr>\n",
       "  </tbody>\n",
       "</table>\n",
       "</div>"
      ],
      "text/plain": [
       "Trial ID           6\n",
       "Epoch               \n",
       "0         100.000000\n",
       "1          99.897920\n",
       "2          98.422411\n",
       "3          97.987475\n",
       "4          98.298246"
      ]
     },
     "execution_count": 21,
     "metadata": {},
     "output_type": "execute_result"
    }
   ],
   "source": [
    "dummy_score = ex.load_metric('dummy_score', trial_id=6)\n",
    "dummy_score.head()"
   ]
  },
  {
   "cell_type": "code",
   "execution_count": 22,
   "metadata": {
    "collapsed": false
   },
   "outputs": [
    {
     "data": {
      "text/plain": [
       "<matplotlib.axes._subplots.AxesSubplot at 0x1170b0048>"
      ]
     },
     "execution_count": 22,
     "metadata": {},
     "output_type": "execute_result"
    },
    {
     "data": {
      "image/png": "[encoded data removed]",
      "text/plain": [
       "<Figure size 432x288 with 1 Axes>"
      ]
     },
     "metadata": {
      "needs_background": "light"
     },
     "output_type": "display_data"
    }
   ],
   "source": [
    "dummy_score.plot()"
   ]
  },
  {
   "cell_type": "markdown",
   "metadata": {},
   "source": [
    "Perform another trial."
   ]
  },
  {
   "cell_type": "code",
   "execution_count": 23,
   "metadata": {
    "collapsed": false
   },
   "outputs": [
    {
     "name": "stderr",
     "output_type": "stream",
     "text": [
      "2019-01-29 00:35:41,736 [daskperiment.core.parameter] [INFO] Updated parameters: a=3<class 'int'>, b=4<class 'int'>\n",
      "2019-01-29 00:35:41,739 [daskperiment.core.experiment] [INFO] Started Experiment (trial id=7)\n",
      "2019-01-29 00:35:41,750 [daskperiment.core.experiment] [INFO] Target: calculate_score-d6523cfb-62ec-4bb7-a9b9-5445bd7d0a6e\n",
      "2019-01-29 00:35:41,751 [daskperiment.core.experiment] [INFO] Parameters: a=3<class 'int'>, b=4<class 'int'>\n",
      "2019-01-29 00:35:41,754 [daskperiment.io.serialize] [INFO] Saving 7 to path=daskperiment_cache/quickstart_pj/persist/quickstart_pj_prepare_data_7.pkl\n",
      "2019-01-29 00:35:41,757 [daskperiment.core.experiment] [INFO] Finished Experiment (trial id=7)\n",
      "2019-01-29 00:35:41,760 [daskperiment.io.serialize] [INFO] Saving Experiment(id: quickstart_pj, trial_id: 7) to path=daskperiment_cache/quickstart_pj/quickstart_pj.pkl\n"
     ]
    },
    {
     "data": {
      "text/plain": [
       "1.4285714285714286"
      ]
     },
     "execution_count": 23,
     "metadata": {},
     "output_type": "execute_result"
    }
   ],
   "source": [
    "ex.set_parameters(a=3, b=4)\n",
    "s.compute()"
   ]
  },
  {
   "cell_type": "markdown",
   "metadata": {},
   "source": [
    "To compare metrics between trials, pass multiple trial ids to `Experiment.load_metric`."
   ]
  },
  {
   "cell_type": "code",
   "execution_count": 24,
   "metadata": {
    "collapsed": false
   },
   "outputs": [
    {
     "data": {
      "text/plain": [
       "<matplotlib.axes._subplots.AxesSubplot at 0x1173e06a0>"
      ]
     },
     "execution_count": 24,
     "metadata": {},
     "output_type": "execute_result"
    },
    {
     "data": {
      "image/png": "[encoded data removed]",
      "text/plain": [
       "<Figure size 432x288 with 1 Axes>"
      ]
     },
     "metadata": {
      "needs_background": "light"
     },
     "output_type": "display_data"
    }
   ],
   "source": [
    "ex.load_metric('dummy_score', trial_id=[6, 7]).plot()"
   ]
  },
  {
   "cell_type": "markdown",
   "metadata": {},
   "source": [
    "# Check code context"
   ]
  },
  {
   "cell_type": "markdown",
   "metadata": {},
   "source": [
    "The above example illustrated `daskperiment` tracks code contexts decorated with `Experiment` decorators. \n",
    "\n",
    "To check the tracked code contexts, use `Experiment.get_code` specifying trial id (shows current code if trial id is not provided)."
   ]
  },
  {
   "cell_type": "code",
   "execution_count": 25,
   "metadata": {
    "collapsed": false,
    "scrolled": false
   },
   "outputs": [
    {
     "name": "stdout",
     "output_type": "stream",
     "text": [
      "@ex.persist\n",
      "def prepare_data(a, b):\n",
      "    return a + b\n",
      "\n",
      "\n",
      "@ex.result\n",
      "def calculate_score(s):\n",
      "    for i in range(100):\n",
      "        ex.save_metric('dummy_score', epoch=i, value=100 - np.random.random() * i)\n",
      "        \n",
      "    return 10 / s\n",
      "\n"
     ]
    }
   ],
   "source": [
    "print(ex.get_code())"
   ]
  },
  {
   "cell_type": "code",
   "execution_count": 26,
   "metadata": {
    "collapsed": false,
    "scrolled": true
   },
   "outputs": [
    {
     "name": "stdout",
     "output_type": "stream",
     "text": [
      "@ex\n",
      "def prepare_data(a, b):\n",
      "    return a + b\n",
      "\n",
      "\n",
      "@ex.result\n",
      "def calculate_score(s):\n",
      "    return 10 / s\n",
      "\n"
     ]
    }
   ],
   "source": [
    "print(ex.get_code(trial_id=1))"
   ]
  },
  {
   "cell_type": "markdown",
   "metadata": {},
   "source": [
    "Each code context is also saved as a text file per trial id. Thus, these are easily handled by diff tools and  Git."
   ]
  },
  {
   "cell_type": "code",
   "execution_count": 27,
   "metadata": {
    "collapsed": false
   },
   "outputs": [
    {
     "name": "stdout",
     "output_type": "stream",
     "text": [
      "# Code output saved in trial_id=1\r\n",
      "@ex\r\n",
      "def prepare_data(a, b):\r\n",
      "    return a + b\r\n",
      "\r\n",
      "\r\n",
      "@ex.result\r\n",
      "def calculate_score(s):\r\n",
      "    return 10 / s\r\n"
     ]
    }
   ],
   "source": [
    "%cat daskperiment_cache/quickstart_pj/code/quickstart_pj_1.txt"
   ]
  },
  {
   "cell_type": "markdown",
   "metadata": {},
   "source": [
    "# Save experiment result\n",
    "\n",
    "`daskperiment` automatically saves its internal state when the experiment result is computed (when `.compute` is called). Also, `Experiment` instance automatically recover previous state when it is instanciated.\n",
    "\n",
    "Following example instanciates `Experiment` instance using the same id as above. Thus, the created `Experiment` automatically recovers its state. "
   ]
  },
  {
   "cell_type": "code",
   "execution_count": 28,
   "metadata": {
    "collapsed": false
   },
   "outputs": [
    {
     "name": "stderr",
     "output_type": "stream",
     "text": [
      "2019-01-29 00:35:42,368 [daskperiment.io.serialize] [INFO] Use existing cache directory: /Users/sinhrks/Git/daskperiment/notebook/daskperiment_cache/quickstart_pj\n",
      "2019-01-29 00:35:42,374 [daskperiment.io.serialize] [INFO] Loaded Experiment(id: quickstart_pj, trial_id: 7) from path=daskperiment_cache/quickstart_pj/quickstart_pj.pkl\n",
      "2019-01-29 00:35:42,392 [daskperiment.core.environment] [INFO] Platform: Darwin-17.7.0-x86_64-i386-64bit\n",
      "2019-01-29 00:35:42,395 [daskperiment.core.environment] [INFO] Python: CPython 3.6.6 (Jupyter Notebook)\n",
      "2019-01-29 00:35:42,395 [daskperiment.core.environment] [INFO] daskperiment version: 0.1.0.dev0\n",
      "2019-01-29 00:35:42,397 [daskperiment.core.environment] [INFO] daskperiment path: /Users/sinhrks/Git/daskperiment/daskperiment\n",
      "2019-01-29 00:35:42,400 [daskperiment.core.environment] [INFO] Working directory: /Users/sinhrks/Git/daskperiment/notebook\n",
      "2019-01-29 00:35:42,402 [daskperiment.core.environment] [INFO] Number of installed Python packages: 337\n"
     ]
    }
   ],
   "source": [
    "ex_new = daskperiment.Experiment(id='quickstart_pj')"
   ]
  },
  {
   "cell_type": "markdown",
   "metadata": {},
   "source": [
    "Calling `.get_history` returns infomation of previous trials."
   ]
  },
  {
   "cell_type": "code",
   "execution_count": 29,
   "metadata": {
    "collapsed": false
   },
   "outputs": [
    {
     "data": {
      "text/html": [
       "<div>\n",
       "<style scoped>\n",
       "    .dataframe tbody tr th:only-of-type {\n",
       "        vertical-align: middle;\n",
       "    }\n",
       "\n",
       "    .dataframe tbody tr th {\n",
       "        vertical-align: top;\n",
       "    }\n",
       "\n",
       "    .dataframe thead th {\n",
       "        text-align: right;\n",
       "    }\n",
       "</style>\n",
       "<table border=\"1\" class=\"dataframe\">\n",
       "  <thead>\n",
       "    <tr style=\"text-align: right;\">\n",
       "      <th></th>\n",
       "      <th>a</th>\n",
       "      <th>b</th>\n",
       "      <th>Result</th>\n",
       "      <th>Success</th>\n",
       "      <th>Finished</th>\n",
       "      <th>Process Time</th>\n",
       "      <th>Description</th>\n",
       "    </tr>\n",
       "    <tr>\n",
       "      <th>Trial ID</th>\n",
       "      <th></th>\n",
       "      <th></th>\n",
       "      <th></th>\n",
       "      <th></th>\n",
       "      <th></th>\n",
       "      <th></th>\n",
       "      <th></th>\n",
       "    </tr>\n",
       "  </thead>\n",
       "  <tbody>\n",
       "    <tr>\n",
       "      <th>1</th>\n",
       "      <td>1</td>\n",
       "      <td>2</td>\n",
       "      <td>3.333333</td>\n",
       "      <td>True</td>\n",
       "      <td>2019-01-29 00:35:40.448638</td>\n",
       "      <td>00:00:00.022798</td>\n",
       "      <td>NaN</td>\n",
       "    </tr>\n",
       "    <tr>\n",
       "      <th>2</th>\n",
       "      <td>1</td>\n",
       "      <td>3</td>\n",
       "      <td>2.500000</td>\n",
       "      <td>True</td>\n",
       "      <td>2019-01-29 00:35:40.534136</td>\n",
       "      <td>00:00:00.017846</td>\n",
       "      <td>NaN</td>\n",
       "    </tr>\n",
       "    <tr>\n",
       "      <th>3</th>\n",
       "      <td>1</td>\n",
       "      <td>-1</td>\n",
       "      <td>NaN</td>\n",
       "      <td>False</td>\n",
       "      <td>2019-01-29 00:35:40.697316</td>\n",
       "      <td>00:00:00.014471</td>\n",
       "      <td>ZeroDivisionError(division by zero)</td>\n",
       "    </tr>\n",
       "    <tr>\n",
       "      <th>4</th>\n",
       "      <td>1</td>\n",
       "      <td>2</td>\n",
       "      <td>3.333333</td>\n",
       "      <td>True</td>\n",
       "      <td>2019-01-29 00:35:40.852448</td>\n",
       "      <td>00:00:00.018732</td>\n",
       "      <td>NaN</td>\n",
       "    </tr>\n",
       "    <tr>\n",
       "      <th>5</th>\n",
       "      <td>3</td>\n",
       "      <td>2</td>\n",
       "      <td>2.000000</td>\n",
       "      <td>True</td>\n",
       "      <td>2019-01-29 00:35:40.914230</td>\n",
       "      <td>00:00:00.014126</td>\n",
       "      <td>NaN</td>\n",
       "    </tr>\n",
       "    <tr>\n",
       "      <th>6</th>\n",
       "      <td>1</td>\n",
       "      <td>2</td>\n",
       "      <td>3.333333</td>\n",
       "      <td>True</td>\n",
       "      <td>2019-01-29 00:35:41.035569</td>\n",
       "      <td>00:00:00.016063</td>\n",
       "      <td>NaN</td>\n",
       "    </tr>\n",
       "    <tr>\n",
       "      <th>7</th>\n",
       "      <td>3</td>\n",
       "      <td>4</td>\n",
       "      <td>1.428571</td>\n",
       "      <td>True</td>\n",
       "      <td>2019-01-29 00:35:41.757594</td>\n",
       "      <td>00:00:00.017773</td>\n",
       "      <td>NaN</td>\n",
       "    </tr>\n",
       "  </tbody>\n",
       "</table>\n",
       "</div>"
      ],
      "text/plain": [
       "          a  b    Result  Success                   Finished    Process Time  \\\n",
       "Trial ID                                                                       \n",
       "1         1  2  3.333333     True 2019-01-29 00:35:40.448638 00:00:00.022798   \n",
       "2         1  3  2.500000     True 2019-01-29 00:35:40.534136 00:00:00.017846   \n",
       "3         1 -1       NaN    False 2019-01-29 00:35:40.697316 00:00:00.014471   \n",
       "4         1  2  3.333333     True 2019-01-29 00:35:40.852448 00:00:00.018732   \n",
       "5         3  2  2.000000     True 2019-01-29 00:35:40.914230 00:00:00.014126   \n",
       "6         1  2  3.333333     True 2019-01-29 00:35:41.035569 00:00:00.016063   \n",
       "7         3  4  1.428571     True 2019-01-29 00:35:41.757594 00:00:00.017773   \n",
       "\n",
       "                                  Description  \n",
       "Trial ID                                       \n",
       "1                                         NaN  \n",
       "2                                         NaN  \n",
       "3         ZeroDivisionError(division by zero)  \n",
       "4                                         NaN  \n",
       "5                                         NaN  \n",
       "6                                         NaN  \n",
       "7                                         NaN  "
      ]
     },
     "execution_count": 29,
     "metadata": {},
     "output_type": "execute_result"
    }
   ],
   "source": [
    "ex_new.get_history()"
   ]
  },
  {
   "cell_type": "markdown",
   "metadata": {},
   "source": [
    "Also, `Experiment` instance automatically detects the environment change from its previous trial. Following is a sample log when package update is detected (pandas 0.23.4 -> 0.24.0).\n",
    "\n",
    "    2019-01-29 00:22:35,357 [daskperiment.io.serialize] [INFO] Loaded Experiment(id: quickstart_pj, trial_id: 14) from path=daskperiment_cache/quickstart_pj/quickstart_pj.pkl\n",
    "    2019-01-29 00:22:35,404 [daskperiment.core.environment] [WARNING] Installed Python packages have been changed\n",
    "    2019-01-29 00:22:35,408 [daskperiment.core.environment] [WARNING] @@ -142 +142 @@\n",
    "    2019-01-29 00:22:35,411 [daskperiment.core.environment] [WARNING] -pandas 0.23.4 (/Users/sinhrks/anaconda/lib/python3.6/site-packages)\n",
    "    2019-01-29 00:22:35,412 [daskperiment.core.environment] [WARNING] +pandas 0.24.0 (/Users/sinhrks/anaconda/lib/python3.6/site-packages)"
   ]
  },
  {
   "cell_type": "markdown",
   "metadata": {
    "collapsed": true
   },
   "source": [
    "# Run as CLI\n",
    "\n",
    "`daskperiment` also supports execution from command line. First, prepare a `Python` script to define experiment. The usage of `Experiment` class is all the same as Jupyter example. `daskperiment` regards a result of a function decorated with `Experiment.result` (`calculate_score` function in below case) as experinemt output."
   ]
  },
  {
   "cell_type": "code",
   "execution_count": 30,
   "metadata": {
    "collapsed": false
   },
   "outputs": [
    {
     "name": "stdout",
     "output_type": "stream",
     "text": [
      "import daskperiment\r\n",
      "\r\n",
      "ex = daskperiment.Experiment(id='simple_experiment_pj')\r\n",
      "\r\n",
      "a = ex.parameter('a')\r\n",
      "b = ex.parameter('b')\r\n",
      "\r\n",
      "\r\n",
      "@ex\r\n",
      "def prepare_data(a, b):\r\n",
      "    return a + b\r\n",
      "\r\n",
      "\r\n",
      "@ex.result\r\n",
      "def calculate_score(s):\r\n",
      "    return s + 1\r\n",
      "\r\n",
      "\r\n",
      "d = prepare_data(a, b)\r\n",
      "calculate_score(d)\r\n"
     ]
    }
   ],
   "source": [
    "%cat ../scripts/simple_experiment.py"
   ]
  },
  {
   "cell_type": "markdown",
   "metadata": {},
   "source": [
    "You can provide parameter values from command line options using `key=value` format. `daskperinemt` automatically parse parameters and perform computation."
   ]
  },
  {
   "cell_type": "code",
   "execution_count": 31,
   "metadata": {
    "collapsed": false
   },
   "outputs": [
    {
     "name": "stdout",
     "output_type": "stream",
     "text": [
      "2019-01-29 00:35:43,916 [daskperiment.io.serialize] [INFO] Creating new cache directory: /Users/sinhrks/Git/daskperiment/notebook/daskperiment_cache/simple_experiment_pj\n",
      "2019-01-29 00:35:43,916 [daskperiment.core.experiment] [INFO] Initialized new experiment: daskperiment_cache/simple_experiment_pj/simple_experiment_pj.pkl\n",
      "2019-01-29 00:35:43,955 [daskperiment.core.environment] [INFO] Platform: Darwin-17.7.0-x86_64-i386-64bit\n",
      "2019-01-29 00:35:43,955 [daskperiment.core.environment] [INFO] Python: CPython 3.6.6 (File)\n",
      "2019-01-29 00:35:43,956 [daskperiment.core.environment] [INFO] daskperiment version: 0.1.0.dev0\n",
      "2019-01-29 00:35:43,956 [daskperiment.core.environment] [INFO] daskperiment path: /Users/sinhrks/Git/daskperiment/daskperiment\n",
      "2019-01-29 00:35:43,957 [daskperiment.core.environment] [INFO] Working directory: /Users/sinhrks/Git/daskperiment/notebook\n",
      "2019-01-29 00:35:43,957 [daskperiment.core.environment] [INFO] Number of installed Python packages: 337\n",
      "2019-01-29 00:35:44,008 [daskperiment.core.parameter] [INFO] Updated parameters: a=1<class 'int'>, b=2<class 'int'>\n",
      "2019-01-29 00:35:44,009 [daskperiment.core.experiment] [INFO] Started Experiment (trial id=1)\n",
      "2019-01-29 00:35:44,009 [daskperiment.io.serialize] [INFO] Creating new code directory: /Users/sinhrks/Git/daskperiment/notebook/daskperiment_cache/simple_experiment_pj/code\n",
      "2019-01-29 00:35:44,010 [daskperiment.core.experiment] [INFO] Target: calculate_score-e3490841-a086-429d-9e53-0634a82c0d05\n",
      "2019-01-29 00:35:44,013 [daskperiment.core.experiment] [INFO] Parameters: a=1<class 'int'>, b=2<class 'int'>\n",
      "2019-01-29 00:35:44,022 [daskperiment.core.experiment] [INFO] Finished Experiment (trial id=1)\n",
      "2019-01-29 00:35:44,022 [daskperiment.io.serialize] [INFO] Saving Experiment(id: simple_experiment_pj, trial_id: 1) to path=daskperiment_cache/simple_experiment_pj/simple_experiment_pj.pkl\n"
     ]
    }
   ],
   "source": [
    "!python ../scripts/simple_experiment.py a=1 b=2"
   ]
  },
  {
   "cell_type": "markdown",
   "metadata": {},
   "source": [
    "Let's perform multiple trials using different parameters. `daskperiment` automatically saves trial history as the same as Jupyter example (see trial id is incremented)."
   ]
  },
  {
   "cell_type": "code",
   "execution_count": 32,
   "metadata": {
    "collapsed": false
   },
   "outputs": [
    {
     "name": "stdout",
     "output_type": "stream",
     "text": [
      "2019-01-29 00:35:45,753 [daskperiment.io.serialize] [INFO] Use existing cache directory: /Users/sinhrks/Git/daskperiment/notebook/daskperiment_cache/simple_experiment_pj\n",
      "2019-01-29 00:35:45,754 [daskperiment.io.serialize] [INFO] Loaded Experiment(id: simple_experiment_pj, trial_id: 1) from path=daskperiment_cache/simple_experiment_pj/simple_experiment_pj.pkl\n",
      "2019-01-29 00:35:45,781 [daskperiment.core.environment] [INFO] Platform: Darwin-17.7.0-x86_64-i386-64bit\n",
      "2019-01-29 00:35:45,781 [daskperiment.core.environment] [INFO] Python: CPython 3.6.6 (File)\n",
      "2019-01-29 00:35:45,782 [daskperiment.core.environment] [INFO] daskperiment version: 0.1.0.dev0\n",
      "2019-01-29 00:35:45,782 [daskperiment.core.environment] [INFO] daskperiment path: /Users/sinhrks/Git/daskperiment/daskperiment\n",
      "2019-01-29 00:35:45,782 [daskperiment.core.environment] [INFO] Working directory: /Users/sinhrks/Git/daskperiment/notebook\n",
      "2019-01-29 00:35:45,782 [daskperiment.core.environment] [INFO] Number of installed Python packages: 337\n",
      "2019-01-29 00:35:45,797 [daskperiment.core.parameter] [INFO] Updated parameters: a=3<class 'int'>, b=2<class 'int'>\n",
      "2019-01-29 00:35:45,798 [daskperiment.core.experiment] [INFO] Started Experiment (trial id=2)\n",
      "2019-01-29 00:35:45,798 [daskperiment.core.experiment] [INFO] Target: calculate_score-153949b3-4f98-4fd1-a47a-60634c37b1a2\n",
      "2019-01-29 00:35:45,799 [daskperiment.core.experiment] [INFO] Parameters: a=3<class 'int'>, b=2<class 'int'>\n",
      "2019-01-29 00:35:45,804 [daskperiment.core.experiment] [INFO] Finished Experiment (trial id=2)\n",
      "2019-01-29 00:35:45,804 [daskperiment.io.serialize] [INFO] Saving Experiment(id: simple_experiment_pj, trial_id: 2) to path=daskperiment_cache/simple_experiment_pj/simple_experiment_pj.pkl\n"
     ]
    }
   ],
   "source": [
    "!python ../scripts/simple_experiment.py a=3 b=2"
   ]
  },
  {
   "cell_type": "markdown",
   "metadata": {},
   "source": [
    "To confirm the experinemt results, instanciate Experiment specifying the same id as the script and use Experiment.get_history."
   ]
  },
  {
   "cell_type": "code",
   "execution_count": 33,
   "metadata": {
    "collapsed": false
   },
   "outputs": [
    {
     "name": "stderr",
     "output_type": "stream",
     "text": [
      "2019-01-29 00:35:46,199 [daskperiment.io.serialize] [INFO] Use existing cache directory: /Users/sinhrks/Git/daskperiment/notebook/daskperiment_cache/simple_experiment_pj\n",
      "2019-01-29 00:35:46,202 [daskperiment.io.serialize] [INFO] Loaded Experiment(id: simple_experiment_pj, trial_id: 2) from path=daskperiment_cache/simple_experiment_pj/simple_experiment_pj.pkl\n",
      "2019-01-29 00:35:46,219 [daskperiment.core.environment] [INFO] Platform: Darwin-17.7.0-x86_64-i386-64bit\n",
      "2019-01-29 00:35:46,221 [daskperiment.core.environment] [INFO] Python: CPython 3.6.6 (Jupyter Notebook)\n",
      "2019-01-29 00:35:46,222 [daskperiment.core.environment] [INFO] daskperiment version: 0.1.0.dev0\n",
      "2019-01-29 00:35:46,224 [daskperiment.core.environment] [INFO] daskperiment path: /Users/sinhrks/Git/daskperiment/daskperiment\n",
      "2019-01-29 00:35:46,225 [daskperiment.core.environment] [INFO] Working directory: /Users/sinhrks/Git/daskperiment/notebook\n",
      "2019-01-29 00:35:46,226 [daskperiment.core.environment] [INFO] Number of installed Python packages: 337\n"
     ]
    },
    {
     "data": {
      "text/html": [
       "<div>\n",
       "<style scoped>\n",
       "    .dataframe tbody tr th:only-of-type {\n",
       "        vertical-align: middle;\n",
       "    }\n",
       "\n",
       "    .dataframe tbody tr th {\n",
       "        vertical-align: top;\n",
       "    }\n",
       "\n",
       "    .dataframe thead th {\n",
       "        text-align: right;\n",
       "    }\n",
       "</style>\n",
       "<table border=\"1\" class=\"dataframe\">\n",
       "  <thead>\n",
       "    <tr style=\"text-align: right;\">\n",
       "      <th></th>\n",
       "      <th>a</th>\n",
       "      <th>b</th>\n",
       "      <th>Result</th>\n",
       "      <th>Success</th>\n",
       "      <th>Finished</th>\n",
       "      <th>Process Time</th>\n",
       "      <th>Description</th>\n",
       "    </tr>\n",
       "    <tr>\n",
       "      <th>Trial ID</th>\n",
       "      <th></th>\n",
       "      <th></th>\n",
       "      <th></th>\n",
       "      <th></th>\n",
       "      <th></th>\n",
       "      <th></th>\n",
       "      <th></th>\n",
       "    </tr>\n",
       "  </thead>\n",
       "  <tbody>\n",
       "    <tr>\n",
       "      <th>1</th>\n",
       "      <td>1</td>\n",
       "      <td>2</td>\n",
       "      <td>4</td>\n",
       "      <td>True</td>\n",
       "      <td>2019-01-29 00:35:44.022242</td>\n",
       "      <td>00:00:00.013176</td>\n",
       "      <td>NaN</td>\n",
       "    </tr>\n",
       "    <tr>\n",
       "      <th>2</th>\n",
       "      <td>3</td>\n",
       "      <td>2</td>\n",
       "      <td>6</td>\n",
       "      <td>True</td>\n",
       "      <td>2019-01-29 00:35:45.804175</td>\n",
       "      <td>00:00:00.006211</td>\n",
       "      <td>NaN</td>\n",
       "    </tr>\n",
       "  </tbody>\n",
       "</table>\n",
       "</div>"
      ],
      "text/plain": [
       "          a  b  Result  Success                   Finished    Process Time  \\\n",
       "Trial ID                                                                     \n",
       "1         1  2       4     True 2019-01-29 00:35:44.022242 00:00:00.013176   \n",
       "2         3  2       6     True 2019-01-29 00:35:45.804175 00:00:00.006211   \n",
       "\n",
       "          Description  \n",
       "Trial ID               \n",
       "1                 NaN  \n",
       "2                 NaN  "
      ]
     },
     "execution_count": 33,
     "metadata": {},
     "output_type": "execute_result"
    }
   ],
   "source": [
    "import daskperiment\n",
    "\n",
    "ex = daskperiment.Experiment(id='simple_experiment_pj')\n",
    "ex.get_history()"
   ]
  },
  {
   "cell_type": "code",
   "execution_count": null,
   "metadata": {
    "collapsed": true
   },
   "outputs": [],
   "source": []
  }
 ],
 "metadata": {
  "kernelspec": {
   "display_name": "Python 3",
   "language": "python",
   "name": "python3"
  },
  "language_info": {
   "codemirror_mode": {
    "name": "ipython",
    "version": 3
   },
   "file_extension": ".py",
   "mimetype": "text/x-python",
   "name": "python",
   "nbconvert_exporter": "python",
   "pygments_lexer": "ipython3",
   "version": "3.6.6"
  }
 },
 "nbformat": 4,
 "nbformat_minor": 2
}
