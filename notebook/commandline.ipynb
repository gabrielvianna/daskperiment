{
 "cells": [
  {
   "cell_type": "markdown",
   "metadata": {},
   "source": [
    "# Run as CLI\n",
    "\n",
    "`daskperiment` also supports execution from command line. First, prepare a `Python` script to define experiment. The usage of `Experiment` class is all the same as [quickstart.ipynb](https://github.com/sinhrks/daskperiment/blob/master/notebook/quickstart.ipynb) example. `daskperiment` regards a result of a function decorated with `Experiment.result` (`calculate_score` function in below case) as experinemt output."
   ]
  },
  {
   "cell_type": "code",
   "execution_count": 1,
   "metadata": {
    "collapsed": false
   },
   "outputs": [
    {
     "name": "stdout",
     "output_type": "stream",
     "text": [
      "import daskperiment\r\n",
      "\r\n",
      "ex = daskperiment.Experiment(id='simple_experiment_pj')\r\n",
      "\r\n",
      "a = ex.parameter('a')\r\n",
      "b = ex.parameter('b')\r\n",
      "\r\n",
      "\r\n",
      "@ex\r\n",
      "def prepare_data(a, b):\r\n",
      "    return a + b\r\n",
      "\r\n",
      "\r\n",
      "@ex.result\r\n",
      "def calculate_score(s):\r\n",
      "    return s + 1\r\n",
      "\r\n",
      "\r\n",
      "d = prepare_data(a, b)\r\n",
      "calculate_score(d)\r\n"
     ]
    }
   ],
   "source": [
    "%cat ../scripts/simple_experiment.py"
   ]
  },
  {
   "cell_type": "markdown",
   "metadata": {},
   "source": [
    "You can provide parameter values from command line options using `key=value` format. `daskperinemt` automatically parse parameters and perform computation."
   ]
  },
  {
   "cell_type": "code",
   "execution_count": 2,
   "metadata": {
    "collapsed": false
   },
   "outputs": [
    {
     "name": "stdout",
     "output_type": "stream",
     "text": [
      "2019-01-25 23:22:50,731 [daskperiment.io.serialize] [INFO] Creating new cache directory: /Users/sinhrks/Git/daskperiment/notebook/daskperiment_cache/simple_experiment_pj_0\n",
      "2019-01-25 23:22:50,732 [daskperiment.core.experiment] [INFO] Initialized new experiment: daskperiment_cache/simple_experiment_pj_0/simple_experiment_pj_0.pkl\n",
      "2019-01-25 23:22:50,732 [daskperiment.core.environment] [INFO] Platform: Darwin-17.7.0-x86_64-i386-64bit\n",
      "2019-01-25 23:22:50,732 [daskperiment.core.environment] [INFO] Python: CPython 3.6.6 (File)\n",
      "2019-01-25 23:22:50,733 [daskperiment.core.environment] [INFO] daskperiment version: 0.1.0.dev0\n",
      "2019-01-25 23:22:50,733 [daskperiment.core.environment] [INFO] daskperiment path: /Users/sinhrks/Git/daskperiment/daskperiment\n",
      "2019-01-25 23:22:50,733 [daskperiment.core.environment] [INFO] Working directory: /Users/sinhrks/Git/daskperiment/notebook\n",
      "2019-01-25 23:22:50,742 [daskperiment.core.parameter] [INFO] Updated parameters: a=1<class 'int'>, b=2<class 'int'>\n",
      "2019-01-25 23:22:50,743 [daskperiment.core.experiment] [INFO] Started Experiment (trial id=1)\n",
      "2019-01-25 23:22:50,743 [daskperiment.core.experiment] [INFO] Target: calculate_score-13762164-089f-4da3-8077-0e7aa692ebb0\n",
      "2019-01-25 23:22:50,743 [daskperiment.core.experiment] [INFO] Parameters: a=1<class 'int'>, b=2<class 'int'>\n",
      "2019-01-25 23:22:50,747 [daskperiment.core.experiment] [INFO] Finished Experiment (trial id=1)\n",
      "2019-01-25 23:22:50,748 [daskperiment.io.serialize] [INFO] Saving Experiment(id: simple_experiment_pj, version: 0, trial_id: 1) to path=daskperiment_cache/simple_experiment_pj_0/simple_experiment_pj_0.pkl\n"
     ]
    }
   ],
   "source": [
    "!python ../scripts/simple_experiment.py a=1 b=2"
   ]
  },
  {
   "cell_type": "markdown",
   "metadata": {},
   "source": [
    "Let's perform multiple trials using different parameters. `daskperiment` automatically saves trial history as the same as Jupyter example (see trial id is incremented)."
   ]
  },
  {
   "cell_type": "code",
   "execution_count": 3,
   "metadata": {
    "collapsed": false
   },
   "outputs": [
    {
     "name": "stdout",
     "output_type": "stream",
     "text": [
      "2019-01-25 23:22:51,827 [daskperiment.io.serialize] [INFO] Use existing cache directory: /Users/sinhrks/Git/daskperiment/notebook/daskperiment_cache/simple_experiment_pj_0\n",
      "2019-01-25 23:22:51,828 [daskperiment.io.serialize] [INFO] Loaded Experiment(id: simple_experiment_pj, version: 0, trial_id: 1) from path=daskperiment_cache/simple_experiment_pj_0/simple_experiment_pj_0.pkl\n",
      "2019-01-25 23:22:51,828 [daskperiment.core.environment] [INFO] Platform: Darwin-17.7.0-x86_64-i386-64bit\n",
      "2019-01-25 23:22:51,829 [daskperiment.core.environment] [INFO] Python: CPython 3.6.6 (File)\n",
      "2019-01-25 23:22:51,829 [daskperiment.core.environment] [INFO] daskperiment version: 0.1.0.dev0\n",
      "2019-01-25 23:22:51,830 [daskperiment.core.environment] [INFO] daskperiment path: /Users/sinhrks/Git/daskperiment/daskperiment\n",
      "2019-01-25 23:22:51,830 [daskperiment.core.environment] [INFO] Working directory: /Users/sinhrks/Git/daskperiment/notebook\n",
      "2019-01-25 23:22:51,839 [daskperiment.core.parameter] [INFO] Updated parameters: a=3<class 'int'>, b=2<class 'int'>\n",
      "2019-01-25 23:22:51,840 [daskperiment.core.experiment] [INFO] Started Experiment (trial id=2)\n",
      "2019-01-25 23:22:51,840 [daskperiment.core.experiment] [INFO] Target: calculate_score-1677f415-516a-41f1-91b2-4e7784c060b0\n",
      "2019-01-25 23:22:51,840 [daskperiment.core.experiment] [INFO] Parameters: a=3<class 'int'>, b=2<class 'int'>\n",
      "2019-01-25 23:22:51,855 [daskperiment.core.experiment] [INFO] Finished Experiment (trial id=2)\n",
      "2019-01-25 23:22:51,856 [daskperiment.io.serialize] [INFO] Saving Experiment(id: simple_experiment_pj, version: 0, trial_id: 2) to path=daskperiment_cache/simple_experiment_pj_0/simple_experiment_pj_0.pkl\n"
     ]
    }
   ],
   "source": [
    "!python ../scripts/simple_experiment.py a=3 b=2"
   ]
  },
  {
   "cell_type": "markdown",
   "metadata": {},
   "source": [
    "To confirm the experinemt results, instanciate `Experiment` specifying the same id as the script and use `Experiment.get_history`."
   ]
  },
  {
   "cell_type": "code",
   "execution_count": 4,
   "metadata": {
    "collapsed": false
   },
   "outputs": [
    {
     "name": "stderr",
     "output_type": "stream",
     "text": [
      "2019-01-25 23:22:52,715 [daskperiment.io.serialize] [INFO] Use existing cache directory: /Users/sinhrks/Git/daskperiment/notebook/daskperiment_cache/simple_experiment_pj_0\n",
      "2019-01-25 23:22:52,718 [daskperiment.io.serialize] [INFO] Loaded Experiment(id: simple_experiment_pj, version: 0, trial_id: 2) from path=daskperiment_cache/simple_experiment_pj_0/simple_experiment_pj_0.pkl\n",
      "2019-01-25 23:22:52,719 [daskperiment.core.environment] [INFO] Platform: Darwin-17.7.0-x86_64-i386-64bit\n",
      "2019-01-25 23:22:52,722 [daskperiment.core.environment] [INFO] Python: CPython 3.6.6 (File)\n",
      "2019-01-25 23:22:52,724 [daskperiment.core.environment] [INFO] daskperiment version: 0.1.0.dev0\n",
      "2019-01-25 23:22:52,725 [daskperiment.core.environment] [INFO] daskperiment path: /Users/sinhrks/Git/daskperiment/daskperiment\n",
      "2019-01-25 23:22:52,728 [daskperiment.core.environment] [INFO] Working directory: /Users/sinhrks/Git/daskperiment/notebook\n"
     ]
    },
    {
     "data": {
      "text/html": [
       "<div>\n",
       "<style scoped>\n",
       "    .dataframe tbody tr th:only-of-type {\n",
       "        vertical-align: middle;\n",
       "    }\n",
       "\n",
       "    .dataframe tbody tr th {\n",
       "        vertical-align: top;\n",
       "    }\n",
       "\n",
       "    .dataframe thead th {\n",
       "        text-align: right;\n",
       "    }\n",
       "</style>\n",
       "<table border=\"1\" class=\"dataframe\">\n",
       "  <thead>\n",
       "    <tr style=\"text-align: right;\">\n",
       "      <th></th>\n",
       "      <th>a</th>\n",
       "      <th>b</th>\n",
       "      <th>Result</th>\n",
       "      <th>Finished</th>\n",
       "      <th>Process Time</th>\n",
       "    </tr>\n",
       "    <tr>\n",
       "      <th>Trial ID</th>\n",
       "      <th></th>\n",
       "      <th></th>\n",
       "      <th></th>\n",
       "      <th></th>\n",
       "      <th></th>\n",
       "    </tr>\n",
       "  </thead>\n",
       "  <tbody>\n",
       "    <tr>\n",
       "      <th>1</th>\n",
       "      <td>1</td>\n",
       "      <td>2</td>\n",
       "      <td>4</td>\n",
       "      <td>2019-01-25 23:22:50.747590</td>\n",
       "      <td>00:00:00.004421</td>\n",
       "    </tr>\n",
       "    <tr>\n",
       "      <th>2</th>\n",
       "      <td>3</td>\n",
       "      <td>2</td>\n",
       "      <td>6</td>\n",
       "      <td>2019-01-25 23:22:51.855395</td>\n",
       "      <td>00:00:00.015069</td>\n",
       "    </tr>\n",
       "  </tbody>\n",
       "</table>\n",
       "</div>"
      ],
      "text/plain": [
       "          a  b  Result                   Finished    Process Time\n",
       "Trial ID                                                         \n",
       "1         1  2       4 2019-01-25 23:22:50.747590 00:00:00.004421\n",
       "2         3  2       6 2019-01-25 23:22:51.855395 00:00:00.015069"
      ]
     },
     "execution_count": 4,
     "metadata": {},
     "output_type": "execute_result"
    }
   ],
   "source": [
    "import daskperiment\n",
    "\n",
    "ex = daskperiment.Experiment(id='simple_experiment_pj')\n",
    "ex.get_history()"
   ]
  },
  {
   "cell_type": "code",
   "execution_count": null,
   "metadata": {
    "collapsed": true
   },
   "outputs": [],
   "source": []
  }
 ],
 "metadata": {
  "kernelspec": {
   "display_name": "Python 3",
   "language": "python",
   "name": "python3"
  },
  "language_info": {
   "codemirror_mode": {
    "name": "ipython",
    "version": 3
   },
   "file_extension": ".py",
   "mimetype": "text/x-python",
   "name": "python",
   "nbconvert_exporter": "python",
   "pygments_lexer": "ipython3",
   "version": "3.6.6"
  }
 },
 "nbformat": 4,
 "nbformat_minor": 2
}
